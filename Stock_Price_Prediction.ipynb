{
  "nbformat": 4,
  "nbformat_minor": 0,
  "metadata": {
    "colab": {
      "provenance": [],
      "authorship_tag": "ABX9TyOlaO0MqwQJeNPn1G9XJUGo",
      "include_colab_link": true
    },
    "kernelspec": {
      "name": "python3",
      "display_name": "Python 3"
    },
    "language_info": {
      "name": "python"
    }
  },
  "cells": [
    {
      "cell_type": "markdown",
      "metadata": {
        "id": "view-in-github",
        "colab_type": "text"
      },
      "source": [
        "<a href=\"https://colab.research.google.com/github/bhawsh/line-detection-car/blob/main/Stock_Price_Prediction.ipynb\" target=\"_parent\"><img src=\"https://colab.research.google.com/assets/colab-badge.svg\" alt=\"Open In Colab\"/></a>"
      ]
    },
    {
      "cell_type": "code",
      "execution_count": 1,
      "metadata": {
        "id": "S3r8Z0Xhh54q"
      },
      "outputs": [],
      "source": [
        "import pandas_datareader as pdr"
      ]
    },
    {
      "cell_type": "code",
      "metadata": {
        "colab": {
          "base_uri": "https://localhost:8080/"
        },
        "id": "f94e5478",
        "outputId": "ea281a10-e83a-4a46-cffa-20addd09f5a2"
      },
      "source": [
        "!pip install yfinance"
      ],
      "execution_count": 2,
      "outputs": [
        {
          "output_type": "stream",
          "name": "stdout",
          "text": [
            "Requirement already satisfied: yfinance in /usr/local/lib/python3.11/dist-packages (0.2.65)\n",
            "Requirement already satisfied: pandas>=1.3.0 in /usr/local/lib/python3.11/dist-packages (from yfinance) (2.2.2)\n",
            "Requirement already satisfied: numpy>=1.16.5 in /usr/local/lib/python3.11/dist-packages (from yfinance) (2.0.2)\n",
            "Requirement already satisfied: requests>=2.31 in /usr/local/lib/python3.11/dist-packages (from yfinance) (2.32.3)\n",
            "Requirement already satisfied: multitasking>=0.0.7 in /usr/local/lib/python3.11/dist-packages (from yfinance) (0.0.11)\n",
            "Requirement already satisfied: platformdirs>=2.0.0 in /usr/local/lib/python3.11/dist-packages (from yfinance) (4.3.8)\n",
            "Requirement already satisfied: pytz>=2022.5 in /usr/local/lib/python3.11/dist-packages (from yfinance) (2025.2)\n",
            "Requirement already satisfied: frozendict>=2.3.4 in /usr/local/lib/python3.11/dist-packages (from yfinance) (2.4.6)\n",
            "Requirement already satisfied: peewee>=3.16.2 in /usr/local/lib/python3.11/dist-packages (from yfinance) (3.18.1)\n",
            "Requirement already satisfied: beautifulsoup4>=4.11.1 in /usr/local/lib/python3.11/dist-packages (from yfinance) (4.13.4)\n",
            "Requirement already satisfied: curl_cffi>=0.7 in /usr/local/lib/python3.11/dist-packages (from yfinance) (0.11.4)\n",
            "Requirement already satisfied: protobuf>=3.19.0 in /usr/local/lib/python3.11/dist-packages (from yfinance) (5.29.5)\n",
            "Requirement already satisfied: websockets>=13.0 in /usr/local/lib/python3.11/dist-packages (from yfinance) (15.0.1)\n",
            "Requirement already satisfied: soupsieve>1.2 in /usr/local/lib/python3.11/dist-packages (from beautifulsoup4>=4.11.1->yfinance) (2.7)\n",
            "Requirement already satisfied: typing-extensions>=4.0.0 in /usr/local/lib/python3.11/dist-packages (from beautifulsoup4>=4.11.1->yfinance) (4.14.1)\n",
            "Requirement already satisfied: cffi>=1.12.0 in /usr/local/lib/python3.11/dist-packages (from curl_cffi>=0.7->yfinance) (1.17.1)\n",
            "Requirement already satisfied: certifi>=2024.2.2 in /usr/local/lib/python3.11/dist-packages (from curl_cffi>=0.7->yfinance) (2025.6.15)\n",
            "Requirement already satisfied: python-dateutil>=2.8.2 in /usr/local/lib/python3.11/dist-packages (from pandas>=1.3.0->yfinance) (2.9.0.post0)\n",
            "Requirement already satisfied: tzdata>=2022.7 in /usr/local/lib/python3.11/dist-packages (from pandas>=1.3.0->yfinance) (2025.2)\n",
            "Requirement already satisfied: charset-normalizer<4,>=2 in /usr/local/lib/python3.11/dist-packages (from requests>=2.31->yfinance) (3.4.2)\n",
            "Requirement already satisfied: idna<4,>=2.5 in /usr/local/lib/python3.11/dist-packages (from requests>=2.31->yfinance) (3.10)\n",
            "Requirement already satisfied: urllib3<3,>=1.21.1 in /usr/local/lib/python3.11/dist-packages (from requests>=2.31->yfinance) (2.4.0)\n",
            "Requirement already satisfied: pycparser in /usr/local/lib/python3.11/dist-packages (from cffi>=1.12.0->curl_cffi>=0.7->yfinance) (2.22)\n",
            "Requirement already satisfied: six>=1.5 in /usr/local/lib/python3.11/dist-packages (from python-dateutil>=2.8.2->pandas>=1.3.0->yfinance) (1.17.0)\n"
          ]
        }
      ]
    },
    {
      "cell_type": "code",
      "metadata": {
        "colab": {
          "base_uri": "https://localhost:8080/",
          "height": 338
        },
        "id": "27d26f45",
        "outputId": "a2ec2667-432c-4d2c-a6ee-5d133dd4b627"
      },
      "source": [
        "import yfinance as yf\n",
        "\n",
        "# ✅ Load Apple stock data (AAPL) from 2010 to today\n",
        "df = yf.download('AAPL', start='2010-01-01', end='2024-12-31')\n",
        "\n",
        "print(\"✅ Rows fetched:\", len(df))\n",
        "df.head()\n"
      ],
      "execution_count": 3,
      "outputs": [
        {
          "output_type": "stream",
          "name": "stderr",
          "text": [
            "/tmp/ipython-input-3-2116984408.py:4: FutureWarning: YF.download() has changed argument auto_adjust default to True\n",
            "  df = yf.download('AAPL', start='2010-01-01', end='2024-12-31')\n",
            "[*********************100%***********************]  1 of 1 completed"
          ]
        },
        {
          "output_type": "stream",
          "name": "stdout",
          "text": [
            "✅ Rows fetched: 3773\n"
          ]
        },
        {
          "output_type": "stream",
          "name": "stderr",
          "text": [
            "\n"
          ]
        },
        {
          "output_type": "execute_result",
          "data": {
            "text/plain": [
              "Price          Close      High       Low      Open     Volume\n",
              "Ticker          AAPL      AAPL      AAPL      AAPL       AAPL\n",
              "Date                                                         \n",
              "2010-01-04  6.431896  6.446622  6.382907  6.414464  493729600\n",
              "2010-01-05  6.443017  6.479382  6.409055  6.449629  601904800\n",
              "2010-01-06  6.340530  6.468561  6.333918  6.443015  552160000\n",
              "2010-01-07  6.328810  6.371488  6.282827  6.363974  477131200\n",
              "2010-01-08  6.370887  6.371489  6.283130  6.320396  447610800"
            ],
            "text/html": [
              "\n",
              "  <div id=\"df-18b45d5b-8940-4356-908a-4533959fe4be\" class=\"colab-df-container\">\n",
              "    <div>\n",
              "<style scoped>\n",
              "    .dataframe tbody tr th:only-of-type {\n",
              "        vertical-align: middle;\n",
              "    }\n",
              "\n",
              "    .dataframe tbody tr th {\n",
              "        vertical-align: top;\n",
              "    }\n",
              "\n",
              "    .dataframe thead tr th {\n",
              "        text-align: left;\n",
              "    }\n",
              "\n",
              "    .dataframe thead tr:last-of-type th {\n",
              "        text-align: right;\n",
              "    }\n",
              "</style>\n",
              "<table border=\"1\" class=\"dataframe\">\n",
              "  <thead>\n",
              "    <tr>\n",
              "      <th>Price</th>\n",
              "      <th>Close</th>\n",
              "      <th>High</th>\n",
              "      <th>Low</th>\n",
              "      <th>Open</th>\n",
              "      <th>Volume</th>\n",
              "    </tr>\n",
              "    <tr>\n",
              "      <th>Ticker</th>\n",
              "      <th>AAPL</th>\n",
              "      <th>AAPL</th>\n",
              "      <th>AAPL</th>\n",
              "      <th>AAPL</th>\n",
              "      <th>AAPL</th>\n",
              "    </tr>\n",
              "    <tr>\n",
              "      <th>Date</th>\n",
              "      <th></th>\n",
              "      <th></th>\n",
              "      <th></th>\n",
              "      <th></th>\n",
              "      <th></th>\n",
              "    </tr>\n",
              "  </thead>\n",
              "  <tbody>\n",
              "    <tr>\n",
              "      <th>2010-01-04</th>\n",
              "      <td>6.431896</td>\n",
              "      <td>6.446622</td>\n",
              "      <td>6.382907</td>\n",
              "      <td>6.414464</td>\n",
              "      <td>493729600</td>\n",
              "    </tr>\n",
              "    <tr>\n",
              "      <th>2010-01-05</th>\n",
              "      <td>6.443017</td>\n",
              "      <td>6.479382</td>\n",
              "      <td>6.409055</td>\n",
              "      <td>6.449629</td>\n",
              "      <td>601904800</td>\n",
              "    </tr>\n",
              "    <tr>\n",
              "      <th>2010-01-06</th>\n",
              "      <td>6.340530</td>\n",
              "      <td>6.468561</td>\n",
              "      <td>6.333918</td>\n",
              "      <td>6.443015</td>\n",
              "      <td>552160000</td>\n",
              "    </tr>\n",
              "    <tr>\n",
              "      <th>2010-01-07</th>\n",
              "      <td>6.328810</td>\n",
              "      <td>6.371488</td>\n",
              "      <td>6.282827</td>\n",
              "      <td>6.363974</td>\n",
              "      <td>477131200</td>\n",
              "    </tr>\n",
              "    <tr>\n",
              "      <th>2010-01-08</th>\n",
              "      <td>6.370887</td>\n",
              "      <td>6.371489</td>\n",
              "      <td>6.283130</td>\n",
              "      <td>6.320396</td>\n",
              "      <td>447610800</td>\n",
              "    </tr>\n",
              "  </tbody>\n",
              "</table>\n",
              "</div>\n",
              "    <div class=\"colab-df-buttons\">\n",
              "\n",
              "  <div class=\"colab-df-container\">\n",
              "    <button class=\"colab-df-convert\" onclick=\"convertToInteractive('df-18b45d5b-8940-4356-908a-4533959fe4be')\"\n",
              "            title=\"Convert this dataframe to an interactive table.\"\n",
              "            style=\"display:none;\">\n",
              "\n",
              "  <svg xmlns=\"http://www.w3.org/2000/svg\" height=\"24px\" viewBox=\"0 -960 960 960\">\n",
              "    <path d=\"M120-120v-720h720v720H120Zm60-500h600v-160H180v160Zm220 220h160v-160H400v160Zm0 220h160v-160H400v160ZM180-400h160v-160H180v160Zm440 0h160v-160H620v160ZM180-180h160v-160H180v160Zm440 0h160v-160H620v160Z\"/>\n",
              "  </svg>\n",
              "    </button>\n",
              "\n",
              "  <style>\n",
              "    .colab-df-container {\n",
              "      display:flex;\n",
              "      gap: 12px;\n",
              "    }\n",
              "\n",
              "    .colab-df-convert {\n",
              "      background-color: #E8F0FE;\n",
              "      border: none;\n",
              "      border-radius: 50%;\n",
              "      cursor: pointer;\n",
              "      display: none;\n",
              "      fill: #1967D2;\n",
              "      height: 32px;\n",
              "      padding: 0 0 0 0;\n",
              "      width: 32px;\n",
              "    }\n",
              "\n",
              "    .colab-df-convert:hover {\n",
              "      background-color: #E2EBFA;\n",
              "      box-shadow: 0px 1px 2px rgba(60, 64, 67, 0.3), 0px 1px 3px 1px rgba(60, 64, 67, 0.15);\n",
              "      fill: #174EA6;\n",
              "    }\n",
              "\n",
              "    .colab-df-buttons div {\n",
              "      margin-bottom: 4px;\n",
              "    }\n",
              "\n",
              "    [theme=dark] .colab-df-convert {\n",
              "      background-color: #3B4455;\n",
              "      fill: #D2E3FC;\n",
              "    }\n",
              "\n",
              "    [theme=dark] .colab-df-convert:hover {\n",
              "      background-color: #434B5C;\n",
              "      box-shadow: 0px 1px 3px 1px rgba(0, 0, 0, 0.15);\n",
              "      filter: drop-shadow(0px 1px 2px rgba(0, 0, 0, 0.3));\n",
              "      fill: #FFFFFF;\n",
              "    }\n",
              "  </style>\n",
              "\n",
              "    <script>\n",
              "      const buttonEl =\n",
              "        document.querySelector('#df-18b45d5b-8940-4356-908a-4533959fe4be button.colab-df-convert');\n",
              "      buttonEl.style.display =\n",
              "        google.colab.kernel.accessAllowed ? 'block' : 'none';\n",
              "\n",
              "      async function convertToInteractive(key) {\n",
              "        const element = document.querySelector('#df-18b45d5b-8940-4356-908a-4533959fe4be');\n",
              "        const dataTable =\n",
              "          await google.colab.kernel.invokeFunction('convertToInteractive',\n",
              "                                                    [key], {});\n",
              "        if (!dataTable) return;\n",
              "\n",
              "        const docLinkHtml = 'Like what you see? Visit the ' +\n",
              "          '<a target=\"_blank\" href=https://colab.research.google.com/notebooks/data_table.ipynb>data table notebook</a>'\n",
              "          + ' to learn more about interactive tables.';\n",
              "        element.innerHTML = '';\n",
              "        dataTable['output_type'] = 'display_data';\n",
              "        await google.colab.output.renderOutput(dataTable, element);\n",
              "        const docLink = document.createElement('div');\n",
              "        docLink.innerHTML = docLinkHtml;\n",
              "        element.appendChild(docLink);\n",
              "      }\n",
              "    </script>\n",
              "  </div>\n",
              "\n",
              "\n",
              "    <div id=\"df-e4474aa6-7100-49cc-96cd-87c0cd3fe1d9\">\n",
              "      <button class=\"colab-df-quickchart\" onclick=\"quickchart('df-e4474aa6-7100-49cc-96cd-87c0cd3fe1d9')\"\n",
              "                title=\"Suggest charts\"\n",
              "                style=\"display:none;\">\n",
              "\n",
              "<svg xmlns=\"http://www.w3.org/2000/svg\" height=\"24px\"viewBox=\"0 0 24 24\"\n",
              "     width=\"24px\">\n",
              "    <g>\n",
              "        <path d=\"M19 3H5c-1.1 0-2 .9-2 2v14c0 1.1.9 2 2 2h14c1.1 0 2-.9 2-2V5c0-1.1-.9-2-2-2zM9 17H7v-7h2v7zm4 0h-2V7h2v10zm4 0h-2v-4h2v4z\"/>\n",
              "    </g>\n",
              "</svg>\n",
              "      </button>\n",
              "\n",
              "<style>\n",
              "  .colab-df-quickchart {\n",
              "      --bg-color: #E8F0FE;\n",
              "      --fill-color: #1967D2;\n",
              "      --hover-bg-color: #E2EBFA;\n",
              "      --hover-fill-color: #174EA6;\n",
              "      --disabled-fill-color: #AAA;\n",
              "      --disabled-bg-color: #DDD;\n",
              "  }\n",
              "\n",
              "  [theme=dark] .colab-df-quickchart {\n",
              "      --bg-color: #3B4455;\n",
              "      --fill-color: #D2E3FC;\n",
              "      --hover-bg-color: #434B5C;\n",
              "      --hover-fill-color: #FFFFFF;\n",
              "      --disabled-bg-color: #3B4455;\n",
              "      --disabled-fill-color: #666;\n",
              "  }\n",
              "\n",
              "  .colab-df-quickchart {\n",
              "    background-color: var(--bg-color);\n",
              "    border: none;\n",
              "    border-radius: 50%;\n",
              "    cursor: pointer;\n",
              "    display: none;\n",
              "    fill: var(--fill-color);\n",
              "    height: 32px;\n",
              "    padding: 0;\n",
              "    width: 32px;\n",
              "  }\n",
              "\n",
              "  .colab-df-quickchart:hover {\n",
              "    background-color: var(--hover-bg-color);\n",
              "    box-shadow: 0 1px 2px rgba(60, 64, 67, 0.3), 0 1px 3px 1px rgba(60, 64, 67, 0.15);\n",
              "    fill: var(--button-hover-fill-color);\n",
              "  }\n",
              "\n",
              "  .colab-df-quickchart-complete:disabled,\n",
              "  .colab-df-quickchart-complete:disabled:hover {\n",
              "    background-color: var(--disabled-bg-color);\n",
              "    fill: var(--disabled-fill-color);\n",
              "    box-shadow: none;\n",
              "  }\n",
              "\n",
              "  .colab-df-spinner {\n",
              "    border: 2px solid var(--fill-color);\n",
              "    border-color: transparent;\n",
              "    border-bottom-color: var(--fill-color);\n",
              "    animation:\n",
              "      spin 1s steps(1) infinite;\n",
              "  }\n",
              "\n",
              "  @keyframes spin {\n",
              "    0% {\n",
              "      border-color: transparent;\n",
              "      border-bottom-color: var(--fill-color);\n",
              "      border-left-color: var(--fill-color);\n",
              "    }\n",
              "    20% {\n",
              "      border-color: transparent;\n",
              "      border-left-color: var(--fill-color);\n",
              "      border-top-color: var(--fill-color);\n",
              "    }\n",
              "    30% {\n",
              "      border-color: transparent;\n",
              "      border-left-color: var(--fill-color);\n",
              "      border-top-color: var(--fill-color);\n",
              "      border-right-color: var(--fill-color);\n",
              "    }\n",
              "    40% {\n",
              "      border-color: transparent;\n",
              "      border-right-color: var(--fill-color);\n",
              "      border-top-color: var(--fill-color);\n",
              "    }\n",
              "    60% {\n",
              "      border-color: transparent;\n",
              "      border-right-color: var(--fill-color);\n",
              "    }\n",
              "    80% {\n",
              "      border-color: transparent;\n",
              "      border-right-color: var(--fill-color);\n",
              "      border-bottom-color: var(--fill-color);\n",
              "    }\n",
              "    90% {\n",
              "      border-color: transparent;\n",
              "      border-bottom-color: var(--fill-color);\n",
              "    }\n",
              "  }\n",
              "</style>\n",
              "\n",
              "      <script>\n",
              "        async function quickchart(key) {\n",
              "          const quickchartButtonEl =\n",
              "            document.querySelector('#' + key + ' button');\n",
              "          quickchartButtonEl.disabled = true;  // To prevent multiple clicks.\n",
              "          quickchartButtonEl.classList.add('colab-df-spinner');\n",
              "          try {\n",
              "            const charts = await google.colab.kernel.invokeFunction(\n",
              "                'suggestCharts', [key], {});\n",
              "          } catch (error) {\n",
              "            console.error('Error during call to suggestCharts:', error);\n",
              "          }\n",
              "          quickchartButtonEl.classList.remove('colab-df-spinner');\n",
              "          quickchartButtonEl.classList.add('colab-df-quickchart-complete');\n",
              "        }\n",
              "        (() => {\n",
              "          let quickchartButtonEl =\n",
              "            document.querySelector('#df-e4474aa6-7100-49cc-96cd-87c0cd3fe1d9 button');\n",
              "          quickchartButtonEl.style.display =\n",
              "            google.colab.kernel.accessAllowed ? 'block' : 'none';\n",
              "        })();\n",
              "      </script>\n",
              "    </div>\n",
              "\n",
              "    </div>\n",
              "  </div>\n"
            ],
            "application/vnd.google.colaboratory.intrinsic+json": {
              "type": "dataframe",
              "variable_name": "df",
              "summary": "{\n  \"name\": \"df\",\n  \"rows\": 3773,\n  \"fields\": [\n    {\n      \"column\": [\n        \"Date\",\n        \"\"\n      ],\n      \"properties\": {\n        \"dtype\": \"date\",\n        \"min\": \"2010-01-04 00:00:00\",\n        \"max\": \"2024-12-30 00:00:00\",\n        \"num_unique_values\": 3773,\n        \"samples\": [\n          \"2010-05-18 00:00:00\",\n          \"2024-12-26 00:00:00\",\n          \"2020-07-07 00:00:00\"\n        ],\n        \"semantic_type\": \"\",\n        \"description\": \"\"\n      }\n    },\n    {\n      \"column\": [\n        \"Close\",\n        \"AAPL\"\n      ],\n      \"properties\": {\n        \"dtype\": \"number\",\n        \"std\": 65.45809651933209,\n        \"min\": 5.77190637588501,\n        \"max\": 258.39666748046875,\n        \"num_unique_values\": 3721,\n        \"samples\": [\n          15.542655944824219,\n          189.2540740966797,\n          32.81476974487305\n        ],\n        \"semantic_type\": \"\",\n        \"description\": \"\"\n      }\n    },\n    {\n      \"column\": [\n        \"High\",\n        \"AAPL\"\n      ],\n      \"properties\": {\n        \"dtype\": \"number\",\n        \"std\": 66.06608858742175,\n        \"min\": 5.89061973022452,\n        \"max\": 259.47408555117545,\n        \"num_unique_values\": 3773,\n        \"samples\": [\n          7.7705112830722465,\n          259.47408555117545,\n          92.01119713048321\n        ],\n        \"semantic_type\": \"\",\n        \"description\": \"\"\n      }\n    },\n    {\n      \"column\": [\n        \"Low\",\n        \"AAPL\"\n      ],\n      \"properties\": {\n        \"dtype\": \"number\",\n        \"std\": 64.75981767876749,\n        \"min\": 5.7178086679858025,\n        \"max\": 257.0100282923795,\n        \"num_unique_values\": 3773,\n        \"samples\": [\n          7.521361550103643,\n          257.0100282923795,\n          90.45832063925833\n        ],\n        \"semantic_type\": \"\",\n        \"description\": \"\"\n      }\n    },\n    {\n      \"column\": [\n        \"Open\",\n        \"AAPL\"\n      ],\n      \"properties\": {\n        \"dtype\": \"number\",\n        \"std\": 65.37773031052836,\n        \"min\": 5.781522959061045,\n        \"max\": 257.56867823862046,\n        \"num_unique_values\": 3773,\n        \"samples\": [\n          7.723326326364042,\n          257.56867823862046,\n          91.23111377416458\n        ],\n        \"semantic_type\": \"\",\n        \"description\": \"\"\n      }\n    },\n    {\n      \"column\": [\n        \"Volume\",\n        \"AAPL\"\n      ],\n      \"properties\": {\n        \"dtype\": \"number\",\n        \"std\": 218079437,\n        \"min\": 23234700,\n        \"max\": 1880998000,\n        \"num_unique_values\": 3764,\n        \"samples\": [\n          108806800,\n          69463600,\n          657650000\n        ],\n        \"semantic_type\": \"\",\n        \"description\": \"\"\n      }\n    }\n  ]\n}"
            }
          },
          "metadata": {},
          "execution_count": 3
        }
      ]
    },
    {
      "cell_type": "code",
      "source": [
        "df.to_csv('AAPL.csv')"
      ],
      "metadata": {
        "id": "In-JwqZeklU1"
      },
      "execution_count": 4,
      "outputs": []
    },
    {
      "cell_type": "code",
      "source": [
        "import pandas as pd"
      ],
      "metadata": {
        "id": "wNdfvunKkq7G"
      },
      "execution_count": 5,
      "outputs": []
    },
    {
      "cell_type": "code",
      "source": [
        "df = pd.read_csv('AAPL.csv')\n",
        "df.columns = ['Date', 'Close', 'High', 'Low', 'Open', 'Volume']\n",
        "df = df.iloc[2:].copy()\n",
        "df['Close'] = pd.to_numeric(df['Close'])"
      ],
      "metadata": {
        "id": "ux1eL5omlRId"
      },
      "execution_count": 6,
      "outputs": []
    },
    {
      "cell_type": "code",
      "source": [
        "df.head()"
      ],
      "metadata": {
        "colab": {
          "base_uri": "https://localhost:8080/",
          "height": 206
        },
        "id": "1AzWNGmslYd9",
        "outputId": "c63d81a6-e1f7-4c8b-974b-9ee160167a77"
      },
      "execution_count": 7,
      "outputs": [
        {
          "output_type": "execute_result",
          "data": {
            "text/plain": [
              "         Date     Close                High                 Low  \\\n",
              "2  2010-01-04  6.431896   6.446622218528988   6.382907496530451   \n",
              "3  2010-01-05  6.443017  6.4793821235584055   6.409054923226288   \n",
              "4  2010-01-06  6.340530   6.468560832823781   6.333917848467796   \n",
              "5  2010-01-07  6.328810   6.371487735528592   6.282827460801755   \n",
              "6  2010-01-08  6.370887   6.371488778365754  6.2831298404554214   \n",
              "\n",
              "                 Open     Volume  \n",
              "2  6.4144643088171485  493729600  \n",
              "3   6.449628601266614  601904800  \n",
              "4   6.443014599215653  552160000  \n",
              "5   6.363974016902019  477131200  \n",
              "6   6.320396285875987  447610800  "
            ],
            "text/html": [
              "\n",
              "  <div id=\"df-14daa1c8-9fd0-4369-b4a9-29a58091218d\" class=\"colab-df-container\">\n",
              "    <div>\n",
              "<style scoped>\n",
              "    .dataframe tbody tr th:only-of-type {\n",
              "        vertical-align: middle;\n",
              "    }\n",
              "\n",
              "    .dataframe tbody tr th {\n",
              "        vertical-align: top;\n",
              "    }\n",
              "\n",
              "    .dataframe thead th {\n",
              "        text-align: right;\n",
              "    }\n",
              "</style>\n",
              "<table border=\"1\" class=\"dataframe\">\n",
              "  <thead>\n",
              "    <tr style=\"text-align: right;\">\n",
              "      <th></th>\n",
              "      <th>Date</th>\n",
              "      <th>Close</th>\n",
              "      <th>High</th>\n",
              "      <th>Low</th>\n",
              "      <th>Open</th>\n",
              "      <th>Volume</th>\n",
              "    </tr>\n",
              "  </thead>\n",
              "  <tbody>\n",
              "    <tr>\n",
              "      <th>2</th>\n",
              "      <td>2010-01-04</td>\n",
              "      <td>6.431896</td>\n",
              "      <td>6.446622218528988</td>\n",
              "      <td>6.382907496530451</td>\n",
              "      <td>6.4144643088171485</td>\n",
              "      <td>493729600</td>\n",
              "    </tr>\n",
              "    <tr>\n",
              "      <th>3</th>\n",
              "      <td>2010-01-05</td>\n",
              "      <td>6.443017</td>\n",
              "      <td>6.4793821235584055</td>\n",
              "      <td>6.409054923226288</td>\n",
              "      <td>6.449628601266614</td>\n",
              "      <td>601904800</td>\n",
              "    </tr>\n",
              "    <tr>\n",
              "      <th>4</th>\n",
              "      <td>2010-01-06</td>\n",
              "      <td>6.340530</td>\n",
              "      <td>6.468560832823781</td>\n",
              "      <td>6.333917848467796</td>\n",
              "      <td>6.443014599215653</td>\n",
              "      <td>552160000</td>\n",
              "    </tr>\n",
              "    <tr>\n",
              "      <th>5</th>\n",
              "      <td>2010-01-07</td>\n",
              "      <td>6.328810</td>\n",
              "      <td>6.371487735528592</td>\n",
              "      <td>6.282827460801755</td>\n",
              "      <td>6.363974016902019</td>\n",
              "      <td>477131200</td>\n",
              "    </tr>\n",
              "    <tr>\n",
              "      <th>6</th>\n",
              "      <td>2010-01-08</td>\n",
              "      <td>6.370887</td>\n",
              "      <td>6.371488778365754</td>\n",
              "      <td>6.2831298404554214</td>\n",
              "      <td>6.320396285875987</td>\n",
              "      <td>447610800</td>\n",
              "    </tr>\n",
              "  </tbody>\n",
              "</table>\n",
              "</div>\n",
              "    <div class=\"colab-df-buttons\">\n",
              "\n",
              "  <div class=\"colab-df-container\">\n",
              "    <button class=\"colab-df-convert\" onclick=\"convertToInteractive('df-14daa1c8-9fd0-4369-b4a9-29a58091218d')\"\n",
              "            title=\"Convert this dataframe to an interactive table.\"\n",
              "            style=\"display:none;\">\n",
              "\n",
              "  <svg xmlns=\"http://www.w3.org/2000/svg\" height=\"24px\" viewBox=\"0 -960 960 960\">\n",
              "    <path d=\"M120-120v-720h720v720H120Zm60-500h600v-160H180v160Zm220 220h160v-160H400v160Zm0 220h160v-160H400v160ZM180-400h160v-160H180v160Zm440 0h160v-160H620v160ZM180-180h160v-160H180v160Zm440 0h160v-160H620v160Z\"/>\n",
              "  </svg>\n",
              "    </button>\n",
              "\n",
              "  <style>\n",
              "    .colab-df-container {\n",
              "      display:flex;\n",
              "      gap: 12px;\n",
              "    }\n",
              "\n",
              "    .colab-df-convert {\n",
              "      background-color: #E8F0FE;\n",
              "      border: none;\n",
              "      border-radius: 50%;\n",
              "      cursor: pointer;\n",
              "      display: none;\n",
              "      fill: #1967D2;\n",
              "      height: 32px;\n",
              "      padding: 0 0 0 0;\n",
              "      width: 32px;\n",
              "    }\n",
              "\n",
              "    .colab-df-convert:hover {\n",
              "      background-color: #E2EBFA;\n",
              "      box-shadow: 0px 1px 2px rgba(60, 64, 67, 0.3), 0px 1px 3px 1px rgba(60, 64, 67, 0.15);\n",
              "      fill: #174EA6;\n",
              "    }\n",
              "\n",
              "    .colab-df-buttons div {\n",
              "      margin-bottom: 4px;\n",
              "    }\n",
              "\n",
              "    [theme=dark] .colab-df-convert {\n",
              "      background-color: #3B4455;\n",
              "      fill: #D2E3FC;\n",
              "    }\n",
              "\n",
              "    [theme=dark] .colab-df-convert:hover {\n",
              "      background-color: #434B5C;\n",
              "      box-shadow: 0px 1px 3px 1px rgba(0, 0, 0, 0.15);\n",
              "      filter: drop-shadow(0px 1px 2px rgba(0, 0, 0, 0.3));\n",
              "      fill: #FFFFFF;\n",
              "    }\n",
              "  </style>\n",
              "\n",
              "    <script>\n",
              "      const buttonEl =\n",
              "        document.querySelector('#df-14daa1c8-9fd0-4369-b4a9-29a58091218d button.colab-df-convert');\n",
              "      buttonEl.style.display =\n",
              "        google.colab.kernel.accessAllowed ? 'block' : 'none';\n",
              "\n",
              "      async function convertToInteractive(key) {\n",
              "        const element = document.querySelector('#df-14daa1c8-9fd0-4369-b4a9-29a58091218d');\n",
              "        const dataTable =\n",
              "          await google.colab.kernel.invokeFunction('convertToInteractive',\n",
              "                                                    [key], {});\n",
              "        if (!dataTable) return;\n",
              "\n",
              "        const docLinkHtml = 'Like what you see? Visit the ' +\n",
              "          '<a target=\"_blank\" href=https://colab.research.google.com/notebooks/data_table.ipynb>data table notebook</a>'\n",
              "          + ' to learn more about interactive tables.';\n",
              "        element.innerHTML = '';\n",
              "        dataTable['output_type'] = 'display_data';\n",
              "        await google.colab.output.renderOutput(dataTable, element);\n",
              "        const docLink = document.createElement('div');\n",
              "        docLink.innerHTML = docLinkHtml;\n",
              "        element.appendChild(docLink);\n",
              "      }\n",
              "    </script>\n",
              "  </div>\n",
              "\n",
              "\n",
              "    <div id=\"df-ea3df9e7-2658-4ac1-a777-e7575db171f8\">\n",
              "      <button class=\"colab-df-quickchart\" onclick=\"quickchart('df-ea3df9e7-2658-4ac1-a777-e7575db171f8')\"\n",
              "                title=\"Suggest charts\"\n",
              "                style=\"display:none;\">\n",
              "\n",
              "<svg xmlns=\"http://www.w3.org/2000/svg\" height=\"24px\"viewBox=\"0 0 24 24\"\n",
              "     width=\"24px\">\n",
              "    <g>\n",
              "        <path d=\"M19 3H5c-1.1 0-2 .9-2 2v14c0 1.1.9 2 2 2h14c1.1 0 2-.9 2-2V5c0-1.1-.9-2-2-2zM9 17H7v-7h2v7zm4 0h-2V7h2v10zm4 0h-2v-4h2v4z\"/>\n",
              "    </g>\n",
              "</svg>\n",
              "      </button>\n",
              "\n",
              "<style>\n",
              "  .colab-df-quickchart {\n",
              "      --bg-color: #E8F0FE;\n",
              "      --fill-color: #1967D2;\n",
              "      --hover-bg-color: #E2EBFA;\n",
              "      --hover-fill-color: #174EA6;\n",
              "      --disabled-fill-color: #AAA;\n",
              "      --disabled-bg-color: #DDD;\n",
              "  }\n",
              "\n",
              "  [theme=dark] .colab-df-quickchart {\n",
              "      --bg-color: #3B4455;\n",
              "      --fill-color: #D2E3FC;\n",
              "      --hover-bg-color: #434B5C;\n",
              "      --hover-fill-color: #FFFFFF;\n",
              "      --disabled-bg-color: #3B4455;\n",
              "      --disabled-fill-color: #666;\n",
              "  }\n",
              "\n",
              "  .colab-df-quickchart {\n",
              "    background-color: var(--bg-color);\n",
              "    border: none;\n",
              "    border-radius: 50%;\n",
              "    cursor: pointer;\n",
              "    display: none;\n",
              "    fill: var(--fill-color);\n",
              "    height: 32px;\n",
              "    padding: 0;\n",
              "    width: 32px;\n",
              "  }\n",
              "\n",
              "  .colab-df-quickchart:hover {\n",
              "    background-color: var(--hover-bg-color);\n",
              "    box-shadow: 0 1px 2px rgba(60, 64, 67, 0.3), 0 1px 3px 1px rgba(60, 64, 67, 0.15);\n",
              "    fill: var(--button-hover-fill-color);\n",
              "  }\n",
              "\n",
              "  .colab-df-quickchart-complete:disabled,\n",
              "  .colab-df-quickchart-complete:disabled:hover {\n",
              "    background-color: var(--disabled-bg-color);\n",
              "    fill: var(--disabled-fill-color);\n",
              "    box-shadow: none;\n",
              "  }\n",
              "\n",
              "  .colab-df-spinner {\n",
              "    border: 2px solid var(--fill-color);\n",
              "    border-color: transparent;\n",
              "    border-bottom-color: var(--fill-color);\n",
              "    animation:\n",
              "      spin 1s steps(1) infinite;\n",
              "  }\n",
              "\n",
              "  @keyframes spin {\n",
              "    0% {\n",
              "      border-color: transparent;\n",
              "      border-bottom-color: var(--fill-color);\n",
              "      border-left-color: var(--fill-color);\n",
              "    }\n",
              "    20% {\n",
              "      border-color: transparent;\n",
              "      border-left-color: var(--fill-color);\n",
              "      border-top-color: var(--fill-color);\n",
              "    }\n",
              "    30% {\n",
              "      border-color: transparent;\n",
              "      border-left-color: var(--fill-color);\n",
              "      border-top-color: var(--fill-color);\n",
              "      border-right-color: var(--fill-color);\n",
              "    }\n",
              "    40% {\n",
              "      border-color: transparent;\n",
              "      border-right-color: var(--fill-color);\n",
              "      border-top-color: var(--fill-color);\n",
              "    }\n",
              "    60% {\n",
              "      border-color: transparent;\n",
              "      border-right-color: var(--fill-color);\n",
              "    }\n",
              "    80% {\n",
              "      border-color: transparent;\n",
              "      border-right-color: var(--fill-color);\n",
              "      border-bottom-color: var(--fill-color);\n",
              "    }\n",
              "    90% {\n",
              "      border-color: transparent;\n",
              "      border-bottom-color: var(--fill-color);\n",
              "    }\n",
              "  }\n",
              "</style>\n",
              "\n",
              "      <script>\n",
              "        async function quickchart(key) {\n",
              "          const quickchartButtonEl =\n",
              "            document.querySelector('#' + key + ' button');\n",
              "          quickchartButtonEl.disabled = true;  // To prevent multiple clicks.\n",
              "          quickchartButtonEl.classList.add('colab-df-spinner');\n",
              "          try {\n",
              "            const charts = await google.colab.kernel.invokeFunction(\n",
              "                'suggestCharts', [key], {});\n",
              "          } catch (error) {\n",
              "            console.error('Error during call to suggestCharts:', error);\n",
              "          }\n",
              "          quickchartButtonEl.classList.remove('colab-df-spinner');\n",
              "          quickchartButtonEl.classList.add('colab-df-quickchart-complete');\n",
              "        }\n",
              "        (() => {\n",
              "          let quickchartButtonEl =\n",
              "            document.querySelector('#df-ea3df9e7-2658-4ac1-a777-e7575db171f8 button');\n",
              "          quickchartButtonEl.style.display =\n",
              "            google.colab.kernel.accessAllowed ? 'block' : 'none';\n",
              "        })();\n",
              "      </script>\n",
              "    </div>\n",
              "\n",
              "    </div>\n",
              "  </div>\n"
            ],
            "application/vnd.google.colaboratory.intrinsic+json": {
              "type": "dataframe",
              "variable_name": "df",
              "repr_error": "0"
            }
          },
          "metadata": {},
          "execution_count": 7
        }
      ]
    },
    {
      "cell_type": "code",
      "source": [
        "df.tail()"
      ],
      "metadata": {
        "colab": {
          "base_uri": "https://localhost:8080/",
          "height": 206
        },
        "id": "mfANEPuzvN5p",
        "outputId": "2261bdc5-cc22-4377-fde6-1010b697320b"
      },
      "execution_count": 8,
      "outputs": [
        {
          "output_type": "execute_result",
          "data": {
            "text/plain": [
              "            Date       Close                High                 Low  \\\n",
              "3770  2024-12-23  254.655716  255.03479114956258   252.8400883307868   \n",
              "3771  2024-12-24  257.578674  257.58862955018265  254.67565812568793   \n",
              "3772  2024-12-26  258.396667  259.47408555117545   257.0100282923795   \n",
              "3773  2024-12-27  254.974930   258.0774615569102   252.4510193654514   \n",
              "3774  2024-12-30  251.593079  252.88995321263158  250.14657107718884   \n",
              "\n",
              "                    Open    Volume  \n",
              "3770  254.15691915529422  40858800  \n",
              "3771  254.87518901917565  23234700  \n",
              "3772  257.56867823862046  27237100  \n",
              "3773  257.20952960207876  42355300  \n",
              "3774  251.62300520062965  35557500  "
            ],
            "text/html": [
              "\n",
              "  <div id=\"df-a5c82fc0-d2ba-4f23-a8f8-c4fc04248e01\" class=\"colab-df-container\">\n",
              "    <div>\n",
              "<style scoped>\n",
              "    .dataframe tbody tr th:only-of-type {\n",
              "        vertical-align: middle;\n",
              "    }\n",
              "\n",
              "    .dataframe tbody tr th {\n",
              "        vertical-align: top;\n",
              "    }\n",
              "\n",
              "    .dataframe thead th {\n",
              "        text-align: right;\n",
              "    }\n",
              "</style>\n",
              "<table border=\"1\" class=\"dataframe\">\n",
              "  <thead>\n",
              "    <tr style=\"text-align: right;\">\n",
              "      <th></th>\n",
              "      <th>Date</th>\n",
              "      <th>Close</th>\n",
              "      <th>High</th>\n",
              "      <th>Low</th>\n",
              "      <th>Open</th>\n",
              "      <th>Volume</th>\n",
              "    </tr>\n",
              "  </thead>\n",
              "  <tbody>\n",
              "    <tr>\n",
              "      <th>3770</th>\n",
              "      <td>2024-12-23</td>\n",
              "      <td>254.655716</td>\n",
              "      <td>255.03479114956258</td>\n",
              "      <td>252.8400883307868</td>\n",
              "      <td>254.15691915529422</td>\n",
              "      <td>40858800</td>\n",
              "    </tr>\n",
              "    <tr>\n",
              "      <th>3771</th>\n",
              "      <td>2024-12-24</td>\n",
              "      <td>257.578674</td>\n",
              "      <td>257.58862955018265</td>\n",
              "      <td>254.67565812568793</td>\n",
              "      <td>254.87518901917565</td>\n",
              "      <td>23234700</td>\n",
              "    </tr>\n",
              "    <tr>\n",
              "      <th>3772</th>\n",
              "      <td>2024-12-26</td>\n",
              "      <td>258.396667</td>\n",
              "      <td>259.47408555117545</td>\n",
              "      <td>257.0100282923795</td>\n",
              "      <td>257.56867823862046</td>\n",
              "      <td>27237100</td>\n",
              "    </tr>\n",
              "    <tr>\n",
              "      <th>3773</th>\n",
              "      <td>2024-12-27</td>\n",
              "      <td>254.974930</td>\n",
              "      <td>258.0774615569102</td>\n",
              "      <td>252.4510193654514</td>\n",
              "      <td>257.20952960207876</td>\n",
              "      <td>42355300</td>\n",
              "    </tr>\n",
              "    <tr>\n",
              "      <th>3774</th>\n",
              "      <td>2024-12-30</td>\n",
              "      <td>251.593079</td>\n",
              "      <td>252.88995321263158</td>\n",
              "      <td>250.14657107718884</td>\n",
              "      <td>251.62300520062965</td>\n",
              "      <td>35557500</td>\n",
              "    </tr>\n",
              "  </tbody>\n",
              "</table>\n",
              "</div>\n",
              "    <div class=\"colab-df-buttons\">\n",
              "\n",
              "  <div class=\"colab-df-container\">\n",
              "    <button class=\"colab-df-convert\" onclick=\"convertToInteractive('df-a5c82fc0-d2ba-4f23-a8f8-c4fc04248e01')\"\n",
              "            title=\"Convert this dataframe to an interactive table.\"\n",
              "            style=\"display:none;\">\n",
              "\n",
              "  <svg xmlns=\"http://www.w3.org/2000/svg\" height=\"24px\" viewBox=\"0 -960 960 960\">\n",
              "    <path d=\"M120-120v-720h720v720H120Zm60-500h600v-160H180v160Zm220 220h160v-160H400v160Zm0 220h160v-160H400v160ZM180-400h160v-160H180v160Zm440 0h160v-160H620v160ZM180-180h160v-160H180v160Zm440 0h160v-160H620v160Z\"/>\n",
              "  </svg>\n",
              "    </button>\n",
              "\n",
              "  <style>\n",
              "    .colab-df-container {\n",
              "      display:flex;\n",
              "      gap: 12px;\n",
              "    }\n",
              "\n",
              "    .colab-df-convert {\n",
              "      background-color: #E8F0FE;\n",
              "      border: none;\n",
              "      border-radius: 50%;\n",
              "      cursor: pointer;\n",
              "      display: none;\n",
              "      fill: #1967D2;\n",
              "      height: 32px;\n",
              "      padding: 0 0 0 0;\n",
              "      width: 32px;\n",
              "    }\n",
              "\n",
              "    .colab-df-convert:hover {\n",
              "      background-color: #E2EBFA;\n",
              "      box-shadow: 0px 1px 2px rgba(60, 64, 67, 0.3), 0px 1px 3px 1px rgba(60, 64, 67, 0.15);\n",
              "      fill: #174EA6;\n",
              "    }\n",
              "\n",
              "    .colab-df-buttons div {\n",
              "      margin-bottom: 4px;\n",
              "    }\n",
              "\n",
              "    [theme=dark] .colab-df-convert {\n",
              "      background-color: #3B4455;\n",
              "      fill: #D2E3FC;\n",
              "    }\n",
              "\n",
              "    [theme=dark] .colab-df-convert:hover {\n",
              "      background-color: #434B5C;\n",
              "      box-shadow: 0px 1px 3px 1px rgba(0, 0, 0, 0.15);\n",
              "      filter: drop-shadow(0px 1px 2px rgba(0, 0, 0, 0.3));\n",
              "      fill: #FFFFFF;\n",
              "    }\n",
              "  </style>\n",
              "\n",
              "    <script>\n",
              "      const buttonEl =\n",
              "        document.querySelector('#df-a5c82fc0-d2ba-4f23-a8f8-c4fc04248e01 button.colab-df-convert');\n",
              "      buttonEl.style.display =\n",
              "        google.colab.kernel.accessAllowed ? 'block' : 'none';\n",
              "\n",
              "      async function convertToInteractive(key) {\n",
              "        const element = document.querySelector('#df-a5c82fc0-d2ba-4f23-a8f8-c4fc04248e01');\n",
              "        const dataTable =\n",
              "          await google.colab.kernel.invokeFunction('convertToInteractive',\n",
              "                                                    [key], {});\n",
              "        if (!dataTable) return;\n",
              "\n",
              "        const docLinkHtml = 'Like what you see? Visit the ' +\n",
              "          '<a target=\"_blank\" href=https://colab.research.google.com/notebooks/data_table.ipynb>data table notebook</a>'\n",
              "          + ' to learn more about interactive tables.';\n",
              "        element.innerHTML = '';\n",
              "        dataTable['output_type'] = 'display_data';\n",
              "        await google.colab.output.renderOutput(dataTable, element);\n",
              "        const docLink = document.createElement('div');\n",
              "        docLink.innerHTML = docLinkHtml;\n",
              "        element.appendChild(docLink);\n",
              "      }\n",
              "    </script>\n",
              "  </div>\n",
              "\n",
              "\n",
              "    <div id=\"df-a67a93a6-6d7f-4648-a3b2-85dfd4c55c74\">\n",
              "      <button class=\"colab-df-quickchart\" onclick=\"quickchart('df-a67a93a6-6d7f-4648-a3b2-85dfd4c55c74')\"\n",
              "                title=\"Suggest charts\"\n",
              "                style=\"display:none;\">\n",
              "\n",
              "<svg xmlns=\"http://www.w3.org/2000/svg\" height=\"24px\"viewBox=\"0 0 24 24\"\n",
              "     width=\"24px\">\n",
              "    <g>\n",
              "        <path d=\"M19 3H5c-1.1 0-2 .9-2 2v14c0 1.1.9 2 2 2h14c1.1 0 2-.9 2-2V5c0-1.1-.9-2-2-2zM9 17H7v-7h2v7zm4 0h-2V7h2v10zm4 0h-2v-4h2v4z\"/>\n",
              "    </g>\n",
              "</svg>\n",
              "      </button>\n",
              "\n",
              "<style>\n",
              "  .colab-df-quickchart {\n",
              "      --bg-color: #E8F0FE;\n",
              "      --fill-color: #1967D2;\n",
              "      --hover-bg-color: #E2EBFA;\n",
              "      --hover-fill-color: #174EA6;\n",
              "      --disabled-fill-color: #AAA;\n",
              "      --disabled-bg-color: #DDD;\n",
              "  }\n",
              "\n",
              "  [theme=dark] .colab-df-quickchart {\n",
              "      --bg-color: #3B4455;\n",
              "      --fill-color: #D2E3FC;\n",
              "      --hover-bg-color: #434B5C;\n",
              "      --hover-fill-color: #FFFFFF;\n",
              "      --disabled-bg-color: #3B4455;\n",
              "      --disabled-fill-color: #666;\n",
              "  }\n",
              "\n",
              "  .colab-df-quickchart {\n",
              "    background-color: var(--bg-color);\n",
              "    border: none;\n",
              "    border-radius: 50%;\n",
              "    cursor: pointer;\n",
              "    display: none;\n",
              "    fill: var(--fill-color);\n",
              "    height: 32px;\n",
              "    padding: 0;\n",
              "    width: 32px;\n",
              "  }\n",
              "\n",
              "  .colab-df-quickchart:hover {\n",
              "    background-color: var(--hover-bg-color);\n",
              "    box-shadow: 0 1px 2px rgba(60, 64, 67, 0.3), 0 1px 3px 1px rgba(60, 64, 67, 0.15);\n",
              "    fill: var(--button-hover-fill-color);\n",
              "  }\n",
              "\n",
              "  .colab-df-quickchart-complete:disabled,\n",
              "  .colab-df-quickchart-complete:disabled:hover {\n",
              "    background-color: var(--disabled-bg-color);\n",
              "    fill: var(--disabled-fill-color);\n",
              "    box-shadow: none;\n",
              "  }\n",
              "\n",
              "  .colab-df-spinner {\n",
              "    border: 2px solid var(--fill-color);\n",
              "    border-color: transparent;\n",
              "    border-bottom-color: var(--fill-color);\n",
              "    animation:\n",
              "      spin 1s steps(1) infinite;\n",
              "  }\n",
              "\n",
              "  @keyframes spin {\n",
              "    0% {\n",
              "      border-color: transparent;\n",
              "      border-bottom-color: var(--fill-color);\n",
              "      border-left-color: var(--fill-color);\n",
              "    }\n",
              "    20% {\n",
              "      border-color: transparent;\n",
              "      border-left-color: var(--fill-color);\n",
              "      border-top-color: var(--fill-color);\n",
              "    }\n",
              "    30% {\n",
              "      border-color: transparent;\n",
              "      border-left-color: var(--fill-color);\n",
              "      border-top-color: var(--fill-color);\n",
              "      border-right-color: var(--fill-color);\n",
              "    }\n",
              "    40% {\n",
              "      border-color: transparent;\n",
              "      border-right-color: var(--fill-color);\n",
              "      border-top-color: var(--fill-color);\n",
              "    }\n",
              "    60% {\n",
              "      border-color: transparent;\n",
              "      border-right-color: var(--fill-color);\n",
              "    }\n",
              "    80% {\n",
              "      border-color: transparent;\n",
              "      border-right-color: var(--fill-color);\n",
              "      border-bottom-color: var(--fill-color);\n",
              "    }\n",
              "    90% {\n",
              "      border-color: transparent;\n",
              "      border-bottom-color: var(--fill-color);\n",
              "    }\n",
              "  }\n",
              "</style>\n",
              "\n",
              "      <script>\n",
              "        async function quickchart(key) {\n",
              "          const quickchartButtonEl =\n",
              "            document.querySelector('#' + key + ' button');\n",
              "          quickchartButtonEl.disabled = true;  // To prevent multiple clicks.\n",
              "          quickchartButtonEl.classList.add('colab-df-spinner');\n",
              "          try {\n",
              "            const charts = await google.colab.kernel.invokeFunction(\n",
              "                'suggestCharts', [key], {});\n",
              "          } catch (error) {\n",
              "            console.error('Error during call to suggestCharts:', error);\n",
              "          }\n",
              "          quickchartButtonEl.classList.remove('colab-df-spinner');\n",
              "          quickchartButtonEl.classList.add('colab-df-quickchart-complete');\n",
              "        }\n",
              "        (() => {\n",
              "          let quickchartButtonEl =\n",
              "            document.querySelector('#df-a67a93a6-6d7f-4648-a3b2-85dfd4c55c74 button');\n",
              "          quickchartButtonEl.style.display =\n",
              "            google.colab.kernel.accessAllowed ? 'block' : 'none';\n",
              "        })();\n",
              "      </script>\n",
              "    </div>\n",
              "\n",
              "    </div>\n",
              "  </div>\n"
            ],
            "application/vnd.google.colaboratory.intrinsic+json": {
              "type": "dataframe",
              "repr_error": "0"
            }
          },
          "metadata": {},
          "execution_count": 8
        }
      ]
    },
    {
      "cell_type": "code",
      "source": [
        "df1 = df['Close']"
      ],
      "metadata": {
        "id": "0wDUivV2ljIZ"
      },
      "execution_count": 9,
      "outputs": []
    },
    {
      "cell_type": "code",
      "source": [
        "df1.shape"
      ],
      "metadata": {
        "colab": {
          "base_uri": "https://localhost:8080/"
        },
        "id": "HLYVdAZ-mX_C",
        "outputId": "0a69e0dc-1db6-433c-c971-17d88332e501"
      },
      "execution_count": 10,
      "outputs": [
        {
          "output_type": "execute_result",
          "data": {
            "text/plain": [
              "(3773,)"
            ]
          },
          "metadata": {},
          "execution_count": 10
        }
      ]
    },
    {
      "cell_type": "code",
      "source": [
        "import matplotlib.pyplot as plt\n",
        "plt.plot(df1)\n",
        "plt.xlabel('Date')\n",
        "plt.ylabel('Closing Price')\n",
        "plt.title('AAPL Closing Price Over Time')\n",
        "plt.show()"
      ],
      "metadata": {
        "colab": {
          "base_uri": "https://localhost:8080/",
          "height": 472
        },
        "id": "omciUfb6oAI7",
        "outputId": "4119e5de-114d-457e-9162-6b27f07dc648"
      },
      "execution_count": 11,
      "outputs": [
        {
          "output_type": "display_data",
          "data": {
            "text/plain": [
              "<Figure size 640x480 with 1 Axes>"
            ],
            "image/png": "[encoded data removed]"
          },
          "metadata": {}
        }
      ]
    },
    {
      "cell_type": "code",
      "source": [
        "import numpy as np"
      ],
      "metadata": {
        "id": "BMXeY0IDvEXE"
      },
      "execution_count": 12,
      "outputs": []
    },
    {
      "cell_type": "code",
      "source": [
        "from sklearn.preprocessing import MinMaxScaler\n",
        "scaler=MinMaxScaler(feature_range=(0,1))\n",
        "df1=scaler.fit_transform(np.array(df1).reshape(-1,1))"
      ],
      "metadata": {
        "id": "iQD5KAy-wUYU"
      },
      "execution_count": 13,
      "outputs": []
    },
    {
      "cell_type": "code",
      "source": [
        "print(df1)"
      ],
      "metadata": {
        "colab": {
          "base_uri": "https://localhost:8080/"
        },
        "id": "TVs6zrl4xFe_",
        "outputId": "dca32da1-bca0-4b6c-d0ff-3707fb46cc32"
      },
      "execution_count": 14,
      "outputs": [
        {
          "output_type": "stream",
          "name": "stdout",
          "text": [
            "[[0.00261253]\n",
            " [0.00265655]\n",
            " [0.00225086]\n",
            " ...\n",
            " [1.        ]\n",
            " [0.98645526]\n",
            " [0.9730684 ]]\n"
          ]
        }
      ]
    },
    {
      "cell_type": "code",
      "source": [
        "training_size=int(len(df1)*0.65)\n",
        "test_size=len(df1)-training_size\n",
        "train_data,test_data=df1[0:training_size,:],df1[training_size:len(df1),:1]"
      ],
      "metadata": {
        "id": "QycmCrqpxjZs"
      },
      "execution_count": 15,
      "outputs": []
    },
    {
      "cell_type": "code",
      "source": [
        "training_size,test_size"
      ],
      "metadata": {
        "colab": {
          "base_uri": "https://localhost:8080/"
        },
        "id": "MHB1iuYEHS40",
        "outputId": "8a850a1d-8d60-4935-b142-3cdf4bc5b84b"
      },
      "execution_count": 16,
      "outputs": [
        {
          "output_type": "execute_result",
          "data": {
            "text/plain": [
              "(2452, 1321)"
            ]
          },
          "metadata": {},
          "execution_count": 16
        }
      ]
    },
    {
      "cell_type": "code",
      "source": [
        "import numpy\n",
        "def create_dataset(dataset,time_step=1):\n",
        "  dataX,dataY=[],[]\n",
        "  for i in range(len(dataset)-time_step-1):\n",
        "    a=dataset[i:(i+time_step),0]\n",
        "    dataX.append(a)\n",
        "    dataY.append(dataset[i+time_step,0])\n",
        "  return numpy.array(dataX),numpy.array(dataY)"
      ],
      "metadata": {
        "id": "3d2a-158HV_H"
      },
      "execution_count": 17,
      "outputs": []
    },
    {
      "cell_type": "code",
      "source": [
        "timestep=100\n",
        "X_train,y_train=create_dataset(train_data,timestep)\n",
        "X_test,y_test=create_dataset(test_data,timestep)"
      ],
      "metadata": {
        "id": "WgwEosxHNKTA"
      },
      "execution_count": 18,
      "outputs": []
    },
    {
      "cell_type": "code",
      "source": [
        "print(X_train.shape),print(y_train.shape)"
      ],
      "metadata": {
        "colab": {
          "base_uri": "https://localhost:8080/"
        },
        "id": "x4H0iwoLNgpX",
        "outputId": "e9f964d3-6bf0-4ce5-c2a4-3f3c63c17c37"
      },
      "execution_count": 19,
      "outputs": [
        {
          "output_type": "stream",
          "name": "stdout",
          "text": [
            "(2351, 100)\n",
            "(2351,)\n"
          ]
        },
        {
          "output_type": "execute_result",
          "data": {
            "text/plain": [
              "(None, None)"
            ]
          },
          "metadata": {},
          "execution_count": 19
        }
      ]
    },
    {
      "cell_type": "code",
      "source": [
        "print(X_test.shape),print(y_test.shape)"
      ],
      "metadata": {
        "colab": {
          "base_uri": "https://localhost:8080/"
        },
        "id": "2VX_itBeqPvb",
        "outputId": "374ff4ad-4a0a-443d-dd3a-4a311e9324b2"
      },
      "execution_count": 20,
      "outputs": [
        {
          "output_type": "stream",
          "name": "stdout",
          "text": [
            "(1220, 100)\n",
            "(1220,)\n"
          ]
        },
        {
          "output_type": "execute_result",
          "data": {
            "text/plain": [
              "(None, None)"
            ]
          },
          "metadata": {},
          "execution_count": 20
        }
      ]
    },
    {
      "cell_type": "code",
      "source": [
        "X_train=X_train.reshape(X_train.shape[0],X_train.shape[1],1)\n",
        "X_test=X_test.reshape(X_test.shape[0],X_test.shape[1],1)\n"
      ],
      "metadata": {
        "id": "YLcDCWUZqgFV"
      },
      "execution_count": 21,
      "outputs": []
    },
    {
      "cell_type": "code",
      "source": [
        "from tensorflow.keras.models import Sequential\n",
        "from tensorflow.keras.layers import Dense\n",
        "from tensorflow.keras.layers import LSTM"
      ],
      "metadata": {
        "id": "GDDXAfncs5ZQ"
      },
      "execution_count": 22,
      "outputs": []
    },
    {
      "cell_type": "code",
      "source": [
        "model=Sequential()\n",
        "model.add(LSTM(50,return_sequences=True,input_shape=(100,1)))\n",
        "model.add(LSTM(50,return_sequences=True))\n",
        "model.add(LSTM(50))\n",
        "model.add(Dense(1))\n",
        "model.compile(loss='mean_squared_error',optimizer='adam')"
      ],
      "metadata": {
        "colab": {
          "base_uri": "https://localhost:8080/"
        },
        "id": "5GMEsZMztvCF",
        "outputId": "6ea25c91-9094-429f-83e9-cb323ca98eae"
      },
      "execution_count": 23,
      "outputs": [
        {
          "output_type": "stream",
          "name": "stderr",
          "text": [
            "/usr/local/lib/python3.11/dist-packages/keras/src/layers/rnn/rnn.py:200: UserWarning: Do not pass an `input_shape`/`input_dim` argument to a layer. When using Sequential models, prefer using an `Input(shape)` object as the first layer in the model instead.\n",
            "  super().__init__(**kwargs)\n"
          ]
        }
      ]
    },
    {
      "cell_type": "code",
      "source": [
        "model.summary()"
      ],
      "metadata": {
        "colab": {
          "base_uri": "https://localhost:8080/",
          "height": 257
        },
        "id": "gH5q-l0HuMtw",
        "outputId": "01506ab2-92b2-4f31-dbda-56e6e21b28d1"
      },
      "execution_count": 24,
      "outputs": [
        {
          "output_type": "display_data",
          "data": {
            "text/plain": [
              "\u001b[1mModel: \"sequential\"\u001b[0m\n"
            ],
            "text/html": [
              "<pre style=\"white-space:pre;overflow-x:auto;line-height:normal;font-family:Menlo,'DejaVu Sans Mono',consolas,'Courier New',monospace\"><span style=\"font-weight: bold\">Model: \"sequential\"</span>\n",
              "</pre>\n"
            ]
          },
          "metadata": {}
        },
        {
          "output_type": "display_data",
          "data": {
            "text/plain": [
              "┏━━━━━━━━━━━━━━━━━━━━━━━━━━━━━━━━━┳━━━━━━━━━━━━━━━━━━━━━━━━┳━━━━━━━━━━━━━━━┓\n",
              "┃\u001b[1m \u001b[0m\u001b[1mLayer (type)                   \u001b[0m\u001b[1m \u001b[0m┃\u001b[1m \u001b[0m\u001b[1mOutput Shape          \u001b[0m\u001b[1m \u001b[0m┃\u001b[1m \u001b[0m\u001b[1m      Param #\u001b[0m\u001b[1m \u001b[0m┃\n",
              "┡━━━━━━━━━━━━━━━━━━━━━━━━━━━━━━━━━╇━━━━━━━━━━━━━━━━━━━━━━━━╇━━━━━━━━━━━━━━━┩\n",
              "│ lstm (\u001b[38;5;33mLSTM\u001b[0m)                     │ (\u001b[38;5;45mNone\u001b[0m, \u001b[38;5;34m100\u001b[0m, \u001b[38;5;34m50\u001b[0m)        │        \u001b[38;5;34m10,400\u001b[0m │\n",
              "├─────────────────────────────────┼────────────────────────┼───────────────┤\n",
              "│ lstm_1 (\u001b[38;5;33mLSTM\u001b[0m)                   │ (\u001b[38;5;45mNone\u001b[0m, \u001b[38;5;34m100\u001b[0m, \u001b[38;5;34m50\u001b[0m)        │        \u001b[38;5;34m20,200\u001b[0m │\n",
              "├─────────────────────────────────┼────────────────────────┼───────────────┤\n",
              "│ lstm_2 (\u001b[38;5;33mLSTM\u001b[0m)                   │ (\u001b[38;5;45mNone\u001b[0m, \u001b[38;5;34m50\u001b[0m)             │        \u001b[38;5;34m20,200\u001b[0m │\n",
              "├─────────────────────────────────┼────────────────────────┼───────────────┤\n",
              "│ dense (\u001b[38;5;33mDense\u001b[0m)                   │ (\u001b[38;5;45mNone\u001b[0m, \u001b[38;5;34m1\u001b[0m)              │            \u001b[38;5;34m51\u001b[0m │\n",
              "└─────────────────────────────────┴────────────────────────┴───────────────┘\n"
            ],
            "text/html": [
              "<pre style=\"white-space:pre;overflow-x:auto;line-height:normal;font-family:Menlo,'DejaVu Sans Mono',consolas,'Courier New',monospace\">┏━━━━━━━━━━━━━━━━━━━━━━━━━━━━━━━━━┳━━━━━━━━━━━━━━━━━━━━━━━━┳━━━━━━━━━━━━━━━┓\n",
              "┃<span style=\"font-weight: bold\"> Layer (type)                    </span>┃<span style=\"font-weight: bold\"> Output Shape           </span>┃<span style=\"font-weight: bold\">       Param # </span>┃\n",
              "┡━━━━━━━━━━━━━━━━━━━━━━━━━━━━━━━━━╇━━━━━━━━━━━━━━━━━━━━━━━━╇━━━━━━━━━━━━━━━┩\n",
              "│ lstm (<span style=\"color: #0087ff; text-decoration-color: #0087ff\">LSTM</span>)                     │ (<span style=\"color: #00d7ff; text-decoration-color: #00d7ff\">None</span>, <span style=\"color: #00af00; text-decoration-color: #00af00\">100</span>, <span style=\"color: #00af00; text-decoration-color: #00af00\">50</span>)        │        <span style=\"color: #00af00; text-decoration-color: #00af00\">10,400</span> │\n",
              "├─────────────────────────────────┼────────────────────────┼───────────────┤\n",
              "│ lstm_1 (<span style=\"color: #0087ff; text-decoration-color: #0087ff\">LSTM</span>)                   │ (<span style=\"color: #00d7ff; text-decoration-color: #00d7ff\">None</span>, <span style=\"color: #00af00; text-decoration-color: #00af00\">100</span>, <span style=\"color: #00af00; text-decoration-color: #00af00\">50</span>)        │        <span style=\"color: #00af00; text-decoration-color: #00af00\">20,200</span> │\n",
              "├─────────────────────────────────┼────────────────────────┼───────────────┤\n",
              "│ lstm_2 (<span style=\"color: #0087ff; text-decoration-color: #0087ff\">LSTM</span>)                   │ (<span style=\"color: #00d7ff; text-decoration-color: #00d7ff\">None</span>, <span style=\"color: #00af00; text-decoration-color: #00af00\">50</span>)             │        <span style=\"color: #00af00; text-decoration-color: #00af00\">20,200</span> │\n",
              "├─────────────────────────────────┼────────────────────────┼───────────────┤\n",
              "│ dense (<span style=\"color: #0087ff; text-decoration-color: #0087ff\">Dense</span>)                   │ (<span style=\"color: #00d7ff; text-decoration-color: #00d7ff\">None</span>, <span style=\"color: #00af00; text-decoration-color: #00af00\">1</span>)              │            <span style=\"color: #00af00; text-decoration-color: #00af00\">51</span> │\n",
              "└─────────────────────────────────┴────────────────────────┴───────────────┘\n",
              "</pre>\n"
            ]
          },
          "metadata": {}
        },
        {
          "output_type": "display_data",
          "data": {
            "text/plain": [
              "\u001b[1m Total params: \u001b[0m\u001b[38;5;34m50,851\u001b[0m (198.64 KB)\n"
            ],
            "text/html": [
              "<pre style=\"white-space:pre;overflow-x:auto;line-height:normal;font-family:Menlo,'DejaVu Sans Mono',consolas,'Courier New',monospace\"><span style=\"font-weight: bold\"> Total params: </span><span style=\"color: #00af00; text-decoration-color: #00af00\">50,851</span> (198.64 KB)\n",
              "</pre>\n"
            ]
          },
          "metadata": {}
        },
        {
          "output_type": "display_data",
          "data": {
            "text/plain": [
              "\u001b[1m Trainable params: \u001b[0m\u001b[38;5;34m50,851\u001b[0m (198.64 KB)\n"
            ],
            "text/html": [
              "<pre style=\"white-space:pre;overflow-x:auto;line-height:normal;font-family:Menlo,'DejaVu Sans Mono',consolas,'Courier New',monospace\"><span style=\"font-weight: bold\"> Trainable params: </span><span style=\"color: #00af00; text-decoration-color: #00af00\">50,851</span> (198.64 KB)\n",
              "</pre>\n"
            ]
          },
          "metadata": {}
        },
        {
          "output_type": "display_data",
          "data": {
            "text/plain": [
              "\u001b[1m Non-trainable params: \u001b[0m\u001b[38;5;34m0\u001b[0m (0.00 B)\n"
            ],
            "text/html": [
              "<pre style=\"white-space:pre;overflow-x:auto;line-height:normal;font-family:Menlo,'DejaVu Sans Mono',consolas,'Courier New',monospace\"><span style=\"font-weight: bold\"> Non-trainable params: </span><span style=\"color: #00af00; text-decoration-color: #00af00\">0</span> (0.00 B)\n",
              "</pre>\n"
            ]
          },
          "metadata": {}
        }
      ]
    },
    {
      "cell_type": "code",
      "source": [
        "model.fit(X_train,y_train,validation_data=(X_test,y_test),epochs=100,batch_size=64,verbose=1)"
      ],
      "metadata": {
        "colab": {
          "base_uri": "https://localhost:8080/"
        },
        "id": "1sjXWKMOuRCy",
        "outputId": "4a31e7fb-cc48-45dc-ad96-21465af5064a"
      },
      "execution_count": 25,
      "outputs": [
        {
          "output_type": "stream",
          "name": "stdout",
          "text": [
            "Epoch 1/100\n",
            "\u001b[1m37/37\u001b[0m \u001b[32m━━━━━━━━━━━━━━━━━━━━\u001b[0m\u001b[37m\u001b[0m \u001b[1m13s\u001b[0m 220ms/step - loss: 0.0025 - val_loss: 0.0050\n",
            "Epoch 2/100\n",
            "\u001b[1m37/37\u001b[0m \u001b[32m━━━━━━━━━━━━━━━━━━━━\u001b[0m\u001b[37m\u001b[0m \u001b[1m8s\u001b[0m 213ms/step - loss: 4.7833e-05 - val_loss: 0.0012\n",
            "Epoch 3/100\n",
            "\u001b[1m37/37\u001b[0m \u001b[32m━━━━━━━━━━━━━━━━━━━━\u001b[0m\u001b[37m\u001b[0m \u001b[1m9s\u001b[0m 175ms/step - loss: 3.2811e-05 - val_loss: 0.0012\n",
            "Epoch 4/100\n",
            "\u001b[1m37/37\u001b[0m \u001b[32m━━━━━━━━━━━━━━━━━━━━\u001b[0m\u001b[37m\u001b[0m \u001b[1m8s\u001b[0m 212ms/step - loss: 3.1486e-05 - val_loss: 0.0017\n",
            "Epoch 5/100\n",
            "\u001b[1m37/37\u001b[0m \u001b[32m━━━━━━━━━━━━━━━━━━━━\u001b[0m\u001b[37m\u001b[0m \u001b[1m7s\u001b[0m 180ms/step - loss: 3.1632e-05 - val_loss: 0.0025\n",
            "Epoch 6/100\n",
            "\u001b[1m37/37\u001b[0m \u001b[32m━━━━━━━━━━━━━━━━━━━━\u001b[0m\u001b[37m\u001b[0m \u001b[1m10s\u001b[0m 175ms/step - loss: 2.8355e-05 - val_loss: 0.0030\n",
            "Epoch 7/100\n",
            "\u001b[1m37/37\u001b[0m \u001b[32m━━━━━━━━━━━━━━━━━━━━\u001b[0m\u001b[37m\u001b[0m \u001b[1m10s\u001b[0m 176ms/step - loss: 2.7565e-05 - val_loss: 0.0020\n",
            "Epoch 8/100\n",
            "\u001b[1m37/37\u001b[0m \u001b[32m━━━━━━━━━━━━━━━━━━━━\u001b[0m\u001b[37m\u001b[0m \u001b[1m8s\u001b[0m 210ms/step - loss: 2.7899e-05 - val_loss: 0.0022\n",
            "Epoch 9/100\n",
            "\u001b[1m37/37\u001b[0m \u001b[32m━━━━━━━━━━━━━━━━━━━━\u001b[0m\u001b[37m\u001b[0m \u001b[1m11s\u001b[0m 221ms/step - loss: 2.7078e-05 - val_loss: 0.0033\n",
            "Epoch 10/100\n",
            "\u001b[1m37/37\u001b[0m \u001b[32m━━━━━━━━━━━━━━━━━━━━\u001b[0m\u001b[37m\u001b[0m \u001b[1m9s\u001b[0m 176ms/step - loss: 2.5013e-05 - val_loss: 0.0026\n",
            "Epoch 11/100\n",
            "\u001b[1m37/37\u001b[0m \u001b[32m━━━━━━━━━━━━━━━━━━━━\u001b[0m\u001b[37m\u001b[0m \u001b[1m10s\u001b[0m 168ms/step - loss: 2.2605e-05 - val_loss: 0.0024\n",
            "Epoch 12/100\n",
            "\u001b[1m37/37\u001b[0m \u001b[32m━━━━━━━━━━━━━━━━━━━━\u001b[0m\u001b[37m\u001b[0m \u001b[1m10s\u001b[0m 176ms/step - loss: 2.1336e-05 - val_loss: 0.0032\n",
            "Epoch 13/100\n",
            "\u001b[1m37/37\u001b[0m \u001b[32m━━━━━━━━━━━━━━━━━━━━\u001b[0m\u001b[37m\u001b[0m \u001b[1m11s\u001b[0m 192ms/step - loss: 2.2837e-05 - val_loss: 0.0027\n",
            "Epoch 14/100\n",
            "\u001b[1m37/37\u001b[0m \u001b[32m━━━━━━━━━━━━━━━━━━━━\u001b[0m\u001b[37m\u001b[0m \u001b[1m11s\u001b[0m 208ms/step - loss: 2.4636e-05 - val_loss: 0.0031\n",
            "Epoch 15/100\n",
            "\u001b[1m37/37\u001b[0m \u001b[32m━━━━━━━━━━━━━━━━━━━━\u001b[0m\u001b[37m\u001b[0m \u001b[1m9s\u001b[0m 186ms/step - loss: 2.0349e-05 - val_loss: 0.0035\n",
            "Epoch 16/100\n",
            "\u001b[1m37/37\u001b[0m \u001b[32m━━━━━━━━━━━━━━━━━━━━\u001b[0m\u001b[37m\u001b[0m \u001b[1m10s\u001b[0m 176ms/step - loss: 1.8369e-05 - val_loss: 0.0018\n",
            "Epoch 17/100\n",
            "\u001b[1m37/37\u001b[0m \u001b[32m━━━━━━━━━━━━━━━━━━━━\u001b[0m\u001b[37m\u001b[0m \u001b[1m10s\u001b[0m 167ms/step - loss: 1.9289e-05 - val_loss: 0.0018\n",
            "Epoch 18/100\n",
            "\u001b[1m37/37\u001b[0m \u001b[32m━━━━━━━━━━━━━━━━━━━━\u001b[0m\u001b[37m\u001b[0m \u001b[1m7s\u001b[0m 201ms/step - loss: 2.0019e-05 - val_loss: 0.0018\n",
            "Epoch 19/100\n",
            "\u001b[1m37/37\u001b[0m \u001b[32m━━━━━━━━━━━━━━━━━━━━\u001b[0m\u001b[37m\u001b[0m \u001b[1m10s\u001b[0m 182ms/step - loss: 2.5923e-05 - val_loss: 0.0031\n",
            "Epoch 20/100\n",
            "\u001b[1m37/37\u001b[0m \u001b[32m━━━━━━━━━━━━━━━━━━━━\u001b[0m\u001b[37m\u001b[0m \u001b[1m10s\u001b[0m 177ms/step - loss: 1.5790e-05 - val_loss: 0.0020\n",
            "Epoch 21/100\n",
            "\u001b[1m37/37\u001b[0m \u001b[32m━━━━━━━━━━━━━━━━━━━━\u001b[0m\u001b[37m\u001b[0m \u001b[1m10s\u001b[0m 168ms/step - loss: 1.8097e-05 - val_loss: 0.0033\n",
            "Epoch 22/100\n",
            "\u001b[1m37/37\u001b[0m \u001b[32m━━━━━━━━━━━━━━━━━━━━\u001b[0m\u001b[37m\u001b[0m \u001b[1m10s\u001b[0m 175ms/step - loss: 1.8341e-05 - val_loss: 0.0026\n",
            "Epoch 23/100\n",
            "\u001b[1m37/37\u001b[0m \u001b[32m━━━━━━━━━━━━━━━━━━━━\u001b[0m\u001b[37m\u001b[0m \u001b[1m11s\u001b[0m 202ms/step - loss: 1.7979e-05 - val_loss: 0.0025\n",
            "Epoch 24/100\n",
            "\u001b[1m37/37\u001b[0m \u001b[32m━━━━━━━━━━━━━━━━━━━━\u001b[0m\u001b[37m\u001b[0m \u001b[1m10s\u001b[0m 199ms/step - loss: 1.8315e-05 - val_loss: 0.0018\n",
            "Epoch 25/100\n",
            "\u001b[1m37/37\u001b[0m \u001b[32m━━━━━━━━━━━━━━━━━━━━\u001b[0m\u001b[37m\u001b[0m \u001b[1m10s\u001b[0m 189ms/step - loss: 1.6255e-05 - val_loss: 0.0018\n",
            "Epoch 26/100\n",
            "\u001b[1m37/37\u001b[0m \u001b[32m━━━━━━━━━━━━━━━━━━━━\u001b[0m\u001b[37m\u001b[0m \u001b[1m7s\u001b[0m 178ms/step - loss: 1.9222e-05 - val_loss: 0.0033\n",
            "Epoch 27/100\n",
            "\u001b[1m37/37\u001b[0m \u001b[32m━━━━━━━━━━━━━━━━━━━━\u001b[0m\u001b[37m\u001b[0m \u001b[1m11s\u001b[0m 207ms/step - loss: 1.7822e-05 - val_loss: 0.0031\n",
            "Epoch 28/100\n",
            "\u001b[1m37/37\u001b[0m \u001b[32m━━━━━━━━━━━━━━━━━━━━\u001b[0m\u001b[37m\u001b[0m \u001b[1m10s\u001b[0m 207ms/step - loss: 1.9981e-05 - val_loss: 0.0022\n",
            "Epoch 29/100\n",
            "\u001b[1m37/37\u001b[0m \u001b[32m━━━━━━━━━━━━━━━━━━━━\u001b[0m\u001b[37m\u001b[0m \u001b[1m7s\u001b[0m 177ms/step - loss: 1.7010e-05 - val_loss: 0.0024\n",
            "Epoch 30/100\n",
            "\u001b[1m37/37\u001b[0m \u001b[32m━━━━━━━━━━━━━━━━━━━━\u001b[0m\u001b[37m\u001b[0m \u001b[1m10s\u001b[0m 177ms/step - loss: 1.6540e-05 - val_loss: 0.0024\n",
            "Epoch 31/100\n",
            "\u001b[1m37/37\u001b[0m \u001b[32m━━━━━━━━━━━━━━━━━━━━\u001b[0m\u001b[37m\u001b[0m \u001b[1m11s\u001b[0m 191ms/step - loss: 1.4621e-05 - val_loss: 0.0024\n",
            "Epoch 32/100\n",
            "\u001b[1m37/37\u001b[0m \u001b[32m━━━━━━━━━━━━━━━━━━━━\u001b[0m\u001b[37m\u001b[0m \u001b[1m11s\u001b[0m 208ms/step - loss: 1.6970e-05 - val_loss: 0.0021\n",
            "Epoch 33/100\n",
            "\u001b[1m37/37\u001b[0m \u001b[32m━━━━━━━━━━━━━━━━━━━━\u001b[0m\u001b[37m\u001b[0m \u001b[1m10s\u001b[0m 197ms/step - loss: 1.4100e-05 - val_loss: 0.0013\n",
            "Epoch 34/100\n",
            "\u001b[1m37/37\u001b[0m \u001b[32m━━━━━━━━━━━━━━━━━━━━\u001b[0m\u001b[37m\u001b[0m \u001b[1m6s\u001b[0m 175ms/step - loss: 1.6256e-05 - val_loss: 0.0025\n",
            "Epoch 35/100\n",
            "\u001b[1m37/37\u001b[0m \u001b[32m━━━━━━━━━━━━━━━━━━━━\u001b[0m\u001b[37m\u001b[0m \u001b[1m10s\u001b[0m 180ms/step - loss: 1.4755e-05 - val_loss: 0.0023\n",
            "Epoch 36/100\n",
            "\u001b[1m37/37\u001b[0m \u001b[32m━━━━━━━━━━━━━━━━━━━━\u001b[0m\u001b[37m\u001b[0m \u001b[1m7s\u001b[0m 191ms/step - loss: 1.5640e-05 - val_loss: 0.0022\n",
            "Epoch 37/100\n",
            "\u001b[1m37/37\u001b[0m \u001b[32m━━━━━━━━━━━━━━━━━━━━\u001b[0m\u001b[37m\u001b[0m \u001b[1m6s\u001b[0m 168ms/step - loss: 1.3381e-05 - val_loss: 0.0019\n",
            "Epoch 38/100\n",
            "\u001b[1m37/37\u001b[0m \u001b[32m━━━━━━━━━━━━━━━━━━━━\u001b[0m\u001b[37m\u001b[0m \u001b[1m12s\u001b[0m 207ms/step - loss: 1.2539e-05 - val_loss: 8.5736e-04\n",
            "Epoch 39/100\n",
            "\u001b[1m37/37\u001b[0m \u001b[32m━━━━━━━━━━━━━━━━━━━━\u001b[0m\u001b[37m\u001b[0m \u001b[1m10s\u001b[0m 198ms/step - loss: 1.3487e-05 - val_loss: 0.0016\n",
            "Epoch 40/100\n",
            "\u001b[1m37/37\u001b[0m \u001b[32m━━━━━━━━━━━━━━━━━━━━\u001b[0m\u001b[37m\u001b[0m \u001b[1m9s\u001b[0m 176ms/step - loss: 1.4537e-05 - val_loss: 7.5841e-04\n",
            "Epoch 41/100\n",
            "\u001b[1m37/37\u001b[0m \u001b[32m━━━━━━━━━━━━━━━━━━━━\u001b[0m\u001b[37m\u001b[0m \u001b[1m10s\u001b[0m 176ms/step - loss: 1.9914e-05 - val_loss: 0.0012\n",
            "Epoch 42/100\n",
            "\u001b[1m37/37\u001b[0m \u001b[32m━━━━━━━━━━━━━━━━━━━━\u001b[0m\u001b[37m\u001b[0m \u001b[1m10s\u001b[0m 177ms/step - loss: 1.8007e-05 - val_loss: 0.0014\n",
            "Epoch 43/100\n",
            "\u001b[1m37/37\u001b[0m \u001b[32m━━━━━━━━━━━━━━━━━━━━\u001b[0m\u001b[37m\u001b[0m \u001b[1m8s\u001b[0m 210ms/step - loss: 1.3224e-05 - val_loss: 0.0017\n",
            "Epoch 44/100\n",
            "\u001b[1m37/37\u001b[0m \u001b[32m━━━━━━━━━━━━━━━━━━━━\u001b[0m\u001b[37m\u001b[0m \u001b[1m6s\u001b[0m 166ms/step - loss: 1.4937e-05 - val_loss: 0.0014\n",
            "Epoch 45/100\n",
            "\u001b[1m37/37\u001b[0m \u001b[32m━━━━━━━━━━━━━━━━━━━━\u001b[0m\u001b[37m\u001b[0m \u001b[1m11s\u001b[0m 177ms/step - loss: 1.3224e-05 - val_loss: 9.7380e-04\n",
            "Epoch 46/100\n",
            "\u001b[1m37/37\u001b[0m \u001b[32m━━━━━━━━━━━━━━━━━━━━\u001b[0m\u001b[37m\u001b[0m \u001b[1m8s\u001b[0m 210ms/step - loss: 1.2284e-05 - val_loss: 0.0013\n",
            "Epoch 47/100\n",
            "\u001b[1m37/37\u001b[0m \u001b[32m━━━━━━━━━━━━━━━━━━━━\u001b[0m\u001b[37m\u001b[0m \u001b[1m6s\u001b[0m 169ms/step - loss: 1.2547e-05 - val_loss: 0.0019\n",
            "Epoch 48/100\n",
            "\u001b[1m37/37\u001b[0m \u001b[32m━━━━━━━━━━━━━━━━━━━━\u001b[0m\u001b[37m\u001b[0m \u001b[1m7s\u001b[0m 197ms/step - loss: 1.2517e-05 - val_loss: 9.3569e-04\n",
            "Epoch 49/100\n",
            "\u001b[1m37/37\u001b[0m \u001b[32m━━━━━━━━━━━━━━━━━━━━\u001b[0m\u001b[37m\u001b[0m \u001b[1m10s\u001b[0m 200ms/step - loss: 1.3522e-05 - val_loss: 0.0022\n",
            "Epoch 50/100\n",
            "\u001b[1m37/37\u001b[0m \u001b[32m━━━━━━━━━━━━━━━━━━━━\u001b[0m\u001b[37m\u001b[0m \u001b[1m9s\u001b[0m 169ms/step - loss: 1.1421e-05 - val_loss: 0.0019\n",
            "Epoch 51/100\n",
            "\u001b[1m37/37\u001b[0m \u001b[32m━━━━━━━━━━━━━━━━━━━━\u001b[0m\u001b[37m\u001b[0m \u001b[1m10s\u001b[0m 167ms/step - loss: 1.4091e-05 - val_loss: 0.0012\n",
            "Epoch 52/100\n",
            "\u001b[1m37/37\u001b[0m \u001b[32m━━━━━━━━━━━━━━━━━━━━\u001b[0m\u001b[37m\u001b[0m \u001b[1m10s\u001b[0m 167ms/step - loss: 1.3530e-05 - val_loss: 0.0011\n",
            "Epoch 53/100\n",
            "\u001b[1m37/37\u001b[0m \u001b[32m━━━━━━━━━━━━━━━━━━━━\u001b[0m\u001b[37m\u001b[0m \u001b[1m11s\u001b[0m 184ms/step - loss: 1.1003e-05 - val_loss: 5.4243e-04\n",
            "Epoch 54/100\n",
            "\u001b[1m37/37\u001b[0m \u001b[32m━━━━━━━━━━━━━━━━━━━━\u001b[0m\u001b[37m\u001b[0m \u001b[1m11s\u001b[0m 196ms/step - loss: 1.4574e-05 - val_loss: 8.1633e-04\n",
            "Epoch 55/100\n",
            "\u001b[1m37/37\u001b[0m \u001b[32m━━━━━━━━━━━━━━━━━━━━\u001b[0m\u001b[37m\u001b[0m \u001b[1m11s\u001b[0m 207ms/step - loss: 1.1710e-05 - val_loss: 5.0813e-04\n",
            "Epoch 56/100\n",
            "\u001b[1m37/37\u001b[0m \u001b[32m━━━━━━━━━━━━━━━━━━━━\u001b[0m\u001b[37m\u001b[0m \u001b[1m7s\u001b[0m 177ms/step - loss: 1.2481e-05 - val_loss: 8.5167e-04\n",
            "Epoch 57/100\n",
            "\u001b[1m37/37\u001b[0m \u001b[32m━━━━━━━━━━━━━━━━━━━━\u001b[0m\u001b[37m\u001b[0m \u001b[1m10s\u001b[0m 165ms/step - loss: 1.1590e-05 - val_loss: 3.8099e-04\n",
            "Epoch 58/100\n",
            "\u001b[1m37/37\u001b[0m \u001b[32m━━━━━━━━━━━━━━━━━━━━\u001b[0m\u001b[37m\u001b[0m \u001b[1m7s\u001b[0m 196ms/step - loss: 1.1616e-05 - val_loss: 8.8394e-04\n",
            "Epoch 59/100\n",
            "\u001b[1m37/37\u001b[0m \u001b[32m━━━━━━━━━━━━━━━━━━━━\u001b[0m\u001b[37m\u001b[0m \u001b[1m9s\u001b[0m 175ms/step - loss: 1.0343e-05 - val_loss: 4.6931e-04\n",
            "Epoch 60/100\n",
            "\u001b[1m37/37\u001b[0m \u001b[32m━━━━━━━━━━━━━━━━━━━━\u001b[0m\u001b[37m\u001b[0m \u001b[1m10s\u001b[0m 174ms/step - loss: 1.2173e-05 - val_loss: 6.8930e-04\n",
            "Epoch 61/100\n",
            "\u001b[1m37/37\u001b[0m \u001b[32m━━━━━━━━━━━━━━━━━━━━\u001b[0m\u001b[37m\u001b[0m \u001b[1m10s\u001b[0m 166ms/step - loss: 1.1430e-05 - val_loss: 8.1468e-04\n",
            "Epoch 62/100\n",
            "\u001b[1m37/37\u001b[0m \u001b[32m━━━━━━━━━━━━━━━━━━━━\u001b[0m\u001b[37m\u001b[0m \u001b[1m11s\u001b[0m 174ms/step - loss: 1.1153e-05 - val_loss: 9.4072e-04\n",
            "Epoch 63/100\n",
            "\u001b[1m37/37\u001b[0m \u001b[32m━━━━━━━━━━━━━━━━━━━━\u001b[0m\u001b[37m\u001b[0m \u001b[1m11s\u001b[0m 198ms/step - loss: 1.2617e-05 - val_loss: 0.0012\n",
            "Epoch 64/100\n",
            "\u001b[1m37/37\u001b[0m \u001b[32m━━━━━━━━━━━━━━━━━━━━\u001b[0m\u001b[37m\u001b[0m \u001b[1m10s\u001b[0m 198ms/step - loss: 9.6197e-06 - val_loss: 6.7065e-04\n",
            "Epoch 65/100\n",
            "\u001b[1m37/37\u001b[0m \u001b[32m━━━━━━━━━━━━━━━━━━━━\u001b[0m\u001b[37m\u001b[0m \u001b[1m9s\u001b[0m 170ms/step - loss: 9.9741e-06 - val_loss: 6.4750e-04\n",
            "Epoch 66/100\n",
            "\u001b[1m37/37\u001b[0m \u001b[32m━━━━━━━━━━━━━━━━━━━━\u001b[0m\u001b[37m\u001b[0m \u001b[1m10s\u001b[0m 168ms/step - loss: 1.0177e-05 - val_loss: 4.7004e-04\n",
            "Epoch 67/100\n",
            "\u001b[1m37/37\u001b[0m \u001b[32m━━━━━━━━━━━━━━━━━━━━\u001b[0m\u001b[37m\u001b[0m \u001b[1m11s\u001b[0m 176ms/step - loss: 1.3681e-05 - val_loss: 5.3098e-04\n",
            "Epoch 68/100\n",
            "\u001b[1m37/37\u001b[0m \u001b[32m━━━━━━━━━━━━━━━━━━━━\u001b[0m\u001b[37m\u001b[0m \u001b[1m8s\u001b[0m 210ms/step - loss: 1.0009e-05 - val_loss: 6.4336e-04\n",
            "Epoch 69/100\n",
            "\u001b[1m37/37\u001b[0m \u001b[32m━━━━━━━━━━━━━━━━━━━━\u001b[0m\u001b[37m\u001b[0m \u001b[1m6s\u001b[0m 166ms/step - loss: 1.0812e-05 - val_loss: 0.0012\n",
            "Epoch 70/100\n",
            "\u001b[1m37/37\u001b[0m \u001b[32m━━━━━━━━━━━━━━━━━━━━\u001b[0m\u001b[37m\u001b[0m \u001b[1m8s\u001b[0m 209ms/step - loss: 9.6832e-06 - val_loss: 0.0013\n",
            "Epoch 71/100\n",
            "\u001b[1m37/37\u001b[0m \u001b[32m━━━━━━━━━━━━━━━━━━━━\u001b[0m\u001b[37m\u001b[0m \u001b[1m6s\u001b[0m 168ms/step - loss: 8.8042e-06 - val_loss: 3.9655e-04\n",
            "Epoch 72/100\n",
            "\u001b[1m37/37\u001b[0m \u001b[32m━━━━━━━━━━━━━━━━━━━━\u001b[0m\u001b[37m\u001b[0m \u001b[1m10s\u001b[0m 165ms/step - loss: 8.6562e-06 - val_loss: 6.1253e-04\n",
            "Epoch 73/100\n",
            "\u001b[1m37/37\u001b[0m \u001b[32m━━━━━━━━━━━━━━━━━━━━\u001b[0m\u001b[37m\u001b[0m \u001b[1m11s\u001b[0m 178ms/step - loss: 9.9457e-06 - val_loss: 5.0976e-04\n",
            "Epoch 74/100\n",
            "\u001b[1m37/37\u001b[0m \u001b[32m━━━━━━━━━━━━━━━━━━━━\u001b[0m\u001b[37m\u001b[0m \u001b[1m11s\u001b[0m 189ms/step - loss: 1.0033e-05 - val_loss: 8.4285e-04\n",
            "Epoch 75/100\n",
            "\u001b[1m37/37\u001b[0m \u001b[32m━━━━━━━━━━━━━━━━━━━━\u001b[0m\u001b[37m\u001b[0m \u001b[1m11s\u001b[0m 210ms/step - loss: 1.1324e-05 - val_loss: 0.0011\n",
            "Epoch 76/100\n",
            "\u001b[1m37/37\u001b[0m \u001b[32m━━━━━━━━━━━━━━━━━━━━\u001b[0m\u001b[37m\u001b[0m \u001b[1m10s\u001b[0m 206ms/step - loss: 1.0135e-05 - val_loss: 9.3898e-04\n",
            "Epoch 77/100\n",
            "\u001b[1m37/37\u001b[0m \u001b[32m━━━━━━━━━━━━━━━━━━━━\u001b[0m\u001b[37m\u001b[0m \u001b[1m6s\u001b[0m 175ms/step - loss: 9.5184e-06 - val_loss: 7.7472e-04\n",
            "Epoch 78/100\n",
            "\u001b[1m37/37\u001b[0m \u001b[32m━━━━━━━━━━━━━━━━━━━━\u001b[0m\u001b[37m\u001b[0m \u001b[1m11s\u001b[0m 182ms/step - loss: 1.0169e-05 - val_loss: 6.4011e-04\n",
            "Epoch 79/100\n",
            "\u001b[1m37/37\u001b[0m \u001b[32m━━━━━━━━━━━━━━━━━━━━\u001b[0m\u001b[37m\u001b[0m \u001b[1m11s\u001b[0m 210ms/step - loss: 8.6949e-06 - val_loss: 5.8939e-04\n",
            "Epoch 80/100\n",
            "\u001b[1m37/37\u001b[0m \u001b[32m━━━━━━━━━━━━━━━━━━━━\u001b[0m\u001b[37m\u001b[0m \u001b[1m10s\u001b[0m 209ms/step - loss: 7.7367e-06 - val_loss: 5.4637e-04\n",
            "Epoch 81/100\n",
            "\u001b[1m37/37\u001b[0m \u001b[32m━━━━━━━━━━━━━━━━━━━━\u001b[0m\u001b[37m\u001b[0m \u001b[1m9s\u001b[0m 177ms/step - loss: 9.6510e-06 - val_loss: 6.7285e-04\n",
            "Epoch 82/100\n",
            "\u001b[1m37/37\u001b[0m \u001b[32m━━━━━━━━━━━━━━━━━━━━\u001b[0m\u001b[37m\u001b[0m \u001b[1m10s\u001b[0m 178ms/step - loss: 1.0288e-05 - val_loss: 4.4831e-04\n",
            "Epoch 83/100\n",
            "\u001b[1m37/37\u001b[0m \u001b[32m━━━━━━━━━━━━━━━━━━━━\u001b[0m\u001b[37m\u001b[0m \u001b[1m10s\u001b[0m 169ms/step - loss: 9.5224e-06 - val_loss: 0.0014\n",
            "Epoch 84/100\n",
            "\u001b[1m37/37\u001b[0m \u001b[32m━━━━━━━━━━━━━━━━━━━━\u001b[0m\u001b[37m\u001b[0m \u001b[1m10s\u001b[0m 172ms/step - loss: 1.0149e-05 - val_loss: 4.9689e-04\n",
            "Epoch 85/100\n",
            "\u001b[1m37/37\u001b[0m \u001b[32m━━━━━━━━━━━━━━━━━━━━\u001b[0m\u001b[37m\u001b[0m \u001b[1m11s\u001b[0m 211ms/step - loss: 7.1449e-06 - val_loss: 4.5871e-04\n",
            "Epoch 86/100\n",
            "\u001b[1m37/37\u001b[0m \u001b[32m━━━━━━━━━━━━━━━━━━━━\u001b[0m\u001b[37m\u001b[0m \u001b[1m10s\u001b[0m 209ms/step - loss: 8.2026e-06 - val_loss: 2.8065e-04\n",
            "Epoch 87/100\n",
            "\u001b[1m37/37\u001b[0m \u001b[32m━━━━━━━━━━━━━━━━━━━━\u001b[0m\u001b[37m\u001b[0m \u001b[1m9s\u001b[0m 178ms/step - loss: 8.5733e-06 - val_loss: 4.7609e-04\n",
            "Epoch 88/100\n",
            "\u001b[1m37/37\u001b[0m \u001b[32m━━━━━━━━━━━━━━━━━━━━\u001b[0m\u001b[37m\u001b[0m \u001b[1m7s\u001b[0m 197ms/step - loss: 7.3089e-06 - val_loss: 2.8144e-04\n",
            "Epoch 89/100\n",
            "\u001b[1m37/37\u001b[0m \u001b[32m━━━━━━━━━━━━━━━━━━━━\u001b[0m\u001b[37m\u001b[0m \u001b[1m8s\u001b[0m 227ms/step - loss: 7.8405e-06 - val_loss: 2.3469e-04\n",
            "Epoch 90/100\n",
            "\u001b[1m37/37\u001b[0m \u001b[32m━━━━━━━━━━━━━━━━━━━━\u001b[0m\u001b[37m\u001b[0m \u001b[1m8s\u001b[0m 178ms/step - loss: 8.9729e-06 - val_loss: 2.7935e-04\n",
            "Epoch 91/100\n",
            "\u001b[1m37/37\u001b[0m \u001b[32m━━━━━━━━━━━━━━━━━━━━\u001b[0m\u001b[37m\u001b[0m \u001b[1m10s\u001b[0m 168ms/step - loss: 8.4892e-06 - val_loss: 3.3312e-04\n",
            "Epoch 92/100\n",
            "\u001b[1m37/37\u001b[0m \u001b[32m━━━━━━━━━━━━━━━━━━━━\u001b[0m\u001b[37m\u001b[0m \u001b[1m10s\u001b[0m 168ms/step - loss: 7.4354e-06 - val_loss: 4.0049e-04\n",
            "Epoch 93/100\n",
            "\u001b[1m37/37\u001b[0m \u001b[32m━━━━━━━━━━━━━━━━━━━━\u001b[0m\u001b[37m\u001b[0m \u001b[1m12s\u001b[0m 205ms/step - loss: 8.1959e-06 - val_loss: 2.3116e-04\n",
            "Epoch 94/100\n",
            "\u001b[1m37/37\u001b[0m \u001b[32m━━━━━━━━━━━━━━━━━━━━\u001b[0m\u001b[37m\u001b[0m \u001b[1m10s\u001b[0m 205ms/step - loss: 8.3868e-06 - val_loss: 7.3021e-04\n",
            "Epoch 95/100\n",
            "\u001b[1m37/37\u001b[0m \u001b[32m━━━━━━━━━━━━━━━━━━━━\u001b[0m\u001b[37m\u001b[0m \u001b[1m6s\u001b[0m 169ms/step - loss: 9.7160e-06 - val_loss: 3.7100e-04\n",
            "Epoch 96/100\n",
            "\u001b[1m37/37\u001b[0m \u001b[32m━━━━━━━━━━━━━━━━━━━━\u001b[0m\u001b[37m\u001b[0m \u001b[1m10s\u001b[0m 170ms/step - loss: 6.9062e-06 - val_loss: 2.0936e-04\n",
            "Epoch 97/100\n",
            "\u001b[1m37/37\u001b[0m \u001b[32m━━━━━━━━━━━━━━━━━━━━\u001b[0m\u001b[37m\u001b[0m \u001b[1m11s\u001b[0m 185ms/step - loss: 8.0158e-06 - val_loss: 2.8448e-04\n",
            "Epoch 98/100\n",
            "\u001b[1m37/37\u001b[0m \u001b[32m━━━━━━━━━━━━━━━━━━━━\u001b[0m\u001b[37m\u001b[0m \u001b[1m8s\u001b[0m 206ms/step - loss: 6.7571e-06 - val_loss: 2.7386e-04\n",
            "Epoch 99/100\n",
            "\u001b[1m37/37\u001b[0m \u001b[32m━━━━━━━━━━━━━━━━━━━━\u001b[0m\u001b[37m\u001b[0m \u001b[1m9s\u001b[0m 168ms/step - loss: 7.3758e-06 - val_loss: 5.5038e-04\n",
            "Epoch 100/100\n",
            "\u001b[1m37/37\u001b[0m \u001b[32m━━━━━━━━━━━━━━━━━━━━\u001b[0m\u001b[37m\u001b[0m \u001b[1m7s\u001b[0m 201ms/step - loss: 7.1114e-06 - val_loss: 2.0437e-04\n"
          ]
        },
        {
          "output_type": "execute_result",
          "data": {
            "text/plain": [
              "<keras.src.callbacks.history.History at 0x7c14c004c450>"
            ]
          },
          "metadata": {},
          "execution_count": 25
        }
      ]
    },
    {
      "cell_type": "code",
      "source": [
        "import tensorflow as tf"
      ],
      "metadata": {
        "id": "CbhjVwgr32Hr"
      },
      "execution_count": 27,
      "outputs": []
    },
    {
      "cell_type": "code",
      "source": [
        "tf.__version__"
      ],
      "metadata": {
        "colab": {
          "base_uri": "https://localhost:8080/",
          "height": 36
        },
        "id": "cJCksIwd4F9z",
        "outputId": "0009566b-b022-40b5-fb11-c80b99cb298f"
      },
      "execution_count": 28,
      "outputs": [
        {
          "output_type": "execute_result",
          "data": {
            "text/plain": [
              "'2.18.0'"
            ],
            "application/vnd.google.colaboratory.intrinsic+json": {
              "type": "string"
            }
          },
          "metadata": {},
          "execution_count": 28
        }
      ]
    },
    {
      "cell_type": "code",
      "source": [
        "train_predict=model.predict(X_train)\n",
        "test_predict=model.predict(X_test)"
      ],
      "metadata": {
        "colab": {
          "base_uri": "https://localhost:8080/"
        },
        "id": "sjK4sPKe4SDP",
        "outputId": "370b26a8-202f-4655-a061-8fdff9c01cca"
      },
      "execution_count": 29,
      "outputs": [
        {
          "output_type": "stream",
          "name": "stdout",
          "text": [
            "\u001b[1m74/74\u001b[0m \u001b[32m━━━━━━━━━━━━━━━━━━━━\u001b[0m\u001b[37m\u001b[0m \u001b[1m3s\u001b[0m 39ms/step\n",
            "\u001b[1m39/39\u001b[0m \u001b[32m━━━━━━━━━━━━━━━━━━━━\u001b[0m\u001b[37m\u001b[0m \u001b[1m1s\u001b[0m 36ms/step\n"
          ]
        }
      ]
    },
    {
      "cell_type": "code",
      "source": [
        "train_predict=scaler.inverse_transform(train_predict)\n",
        "test_predict=scaler.inverse_transform(test_predict)"
      ],
      "metadata": {
        "id": "-QG5Q_6y4d5k"
      },
      "execution_count": 30,
      "outputs": []
    },
    {
      "cell_type": "code",
      "source": [
        "import math\n",
        "from sklearn.metrics import mean_squared_error\n",
        "math.sqrt(mean_squared_error(y_train,train_predict))"
      ],
      "metadata": {
        "colab": {
          "base_uri": "https://localhost:8080/"
        },
        "id": "5XKN2Ud75GIJ",
        "outputId": "7d02063c-9217-43d5-b625-086e939bce11"
      },
      "execution_count": 31,
      "outputs": [
        {
          "output_type": "execute_result",
          "data": {
            "text/plain": [
              "28.025134972820208"
            ]
          },
          "metadata": {},
          "execution_count": 31
        }
      ]
    },
    {
      "cell_type": "code",
      "source": [
        "math.sqrt(mean_squared_error(y_test,test_predict))\n"
      ],
      "metadata": {
        "colab": {
          "base_uri": "https://localhost:8080/"
        },
        "id": "y87KQf9j5t2V",
        "outputId": "d1c38de0-480a-46a4-edbc-407f83db8d2d"
      },
      "execution_count": 32,
      "outputs": [
        {
          "output_type": "execute_result",
          "data": {
            "text/plain": [
              "158.33295406760834"
            ]
          },
          "metadata": {},
          "execution_count": 32
        }
      ]
    },
    {
      "cell_type": "code",
      "source": [
        "look_back=100\n",
        "trainPredictPlot = numpy.empty_like(df1)\n",
        "trainPredictPlot[:, :] = np.nan\n",
        "trainPredictPlot[look_back:len(train_predict)+look_back, :] = train_predict\n",
        "testPredictPlot = numpy.empty_like(df1)\n",
        "testPredictPlot[:, :] = numpy.nan\n",
        "testPredictPlot[len(train_predict)+(look_back*2)+1:len(df1)-1, :] = test_predict\n",
        "plt.plot(scaler.inverse_transform(df1))\n",
        "plt.plot(trainPredictPlot)\n",
        "plt.plot(testPredictPlot)\n",
        "plt.show()"
      ],
      "metadata": {
        "colab": {
          "base_uri": "https://localhost:8080/",
          "height": 430
        },
        "id": "5Lcd0LXB6GgG",
        "outputId": "07f2f321-62c8-44d9-a720-279f570d9a9a"
      },
      "execution_count": 33,
      "outputs": [
        {
          "output_type": "display_data",
          "data": {
            "text/plain": [
              "<Figure size 640x480 with 1 Axes>"
            ],
            "image/png": "[encoded data removed]"
          },
          "metadata": {}
        }
      ]
    },
    {
      "cell_type": "code",
      "source": [
        "len(test_data)"
      ],
      "metadata": {
        "colab": {
          "base_uri": "https://localhost:8080/"
        },
        "id": "IdxoZBc-c8A7",
        "outputId": "30c18c01-edbb-440c-d697-1fa39706abb9"
      },
      "execution_count": 34,
      "outputs": [
        {
          "output_type": "execute_result",
          "data": {
            "text/plain": [
              "1321"
            ]
          },
          "metadata": {},
          "execution_count": 34
        }
      ]
    },
    {
      "cell_type": "code",
      "source": [
        "x_input=test_data[1221:].reshape(1,-1)\n",
        "x_input.shape"
      ],
      "metadata": {
        "colab": {
          "base_uri": "https://localhost:8080/"
        },
        "id": "OtpmRn0i7DQh",
        "outputId": "0af5a3c6-4efe-42bd-8ce1-20c6294699de"
      },
      "execution_count": 36,
      "outputs": [
        {
          "output_type": "execute_result",
          "data": {
            "text/plain": [
              "(1, 100)"
            ]
          },
          "metadata": {},
          "execution_count": 36
        }
      ]
    },
    {
      "cell_type": "code",
      "source": [
        "temp_input = list(x_input)\n",
        "temp_input = temp_input[0].tolist()"
      ],
      "metadata": {
        "id": "93gdy3JGbzzT"
      },
      "execution_count": 45,
      "outputs": []
    },
    {
      "cell_type": "code",
      "source": [
        "temp_input"
      ],
      "metadata": {
        "colab": {
          "base_uri": "https://localhost:8080/"
        },
        "id": "NQMTYbpTeX0Q",
        "outputId": "a6dc793e-6900-4824-f213-59a56aba8a6c"
      },
      "execution_count": 44,
      "outputs": [
        {
          "output_type": "execute_result",
          "data": {
            "text/plain": [
              "[0.8175966405626303,\n",
              " 0.8291409031455884,\n",
              " 0.8352155528627572,\n",
              " 0.8499682563470229,\n",
              " 0.8517433210358841,\n",
              " 0.863577025227289,\n",
              " 0.8688233355833903,\n",
              " 0.8681922054985287,\n",
              " 0.8706377817264893,\n",
              " 0.8702039213188365,\n",
              " 0.8628275695767039,\n",
              " 0.8719394837514535,\n",
              " 0.8732806880326622,\n",
              " 0.8766335477331756,\n",
              " 0.8705588980160069,\n",
              " 0.8835759786666525,\n",
              " 0.8804598304985893,\n",
              " 0.8558850782422236,\n",
              " 0.8483115776248885,\n",
              " 0.8543467250858126,\n",
              " 0.8481931916581616,\n",
              " 0.8485482287563353,\n",
              " 0.8453925179310241,\n",
              " 0.8554512178345711,\n",
              " 0.8558850782422236,\n",
              " 0.8548200877497095,\n",
              " 0.8304426655715562,\n",
              " 0.8322965535698963,\n",
              " 0.8476803871390235,\n",
              " 0.8799469655784476,\n",
              " 0.8773041196732784,\n",
              " 0.8704800747065281,\n",
              " 0.8740301436832472,\n",
              " 0.8700855353521099,\n",
              " 0.8746218319128676,\n",
              " 0.8756868828063848,\n",
              " 0.8962381430211315,\n",
              " 0.8694544656682519,\n",
              " 0.8717028326200066,\n",
              " 0.8673243034802135,\n",
              " 0.8717817767314924,\n",
              " 0.8516249954701607,\n",
              " 0.8677188428346317,\n",
              " 0.8825898718846208,\n",
              " 0.880617597919554,\n",
              " 0.8747401574785909,\n",
              " 0.8895323632191012,\n",
              " 0.8995910027216447,\n",
              " 0.8914256930726823,\n",
              " 0.8928852229196145,\n",
              " 0.9041272388813989,\n",
              " 0.9099652374671208,\n",
              " 0.907519600838157,\n",
              " 0.8874022614320661,\n",
              " 0.8866528057814815,\n",
              " 0.8899662236267536,\n",
              " 0.8978159380327835,\n",
              " 0.8988809889263008,\n",
              " 0.8847988573821379,\n",
              " 0.8682710892090107,\n",
              " 0.8564373246166028,\n",
              " 0.8528871952388802,\n",
              " 0.8585674264036377,\n",
              " 0.8556878689660178,\n",
              " 0.8744640040908996,\n",
              " 0.8733978659793205,\n",
              " 0.8626173136837569,\n",
              " 0.8626173136837569,\n",
              " 0.8661318064694545,\n",
              " 0.8783734590380393,\n",
              " 0.86565796059753,\n",
              " 0.8775836555171618,\n",
              " 0.8786104121745033,\n",
              " 0.881453608208057,\n",
              " 0.8795581643193556,\n",
              " 0.8848891568822689,\n",
              " 0.8967359076904147,\n",
              " 0.9053840025598097,\n",
              " 0.9048706544316406,\n",
              " 0.9143480550781575,\n",
              " 0.9232726053402608,\n",
              " 0.9353563092848709,\n",
              " 0.9367779073016476,\n",
              " 0.9368963536693778,\n",
              " 0.9361065501485004,\n",
              " 0.9515468586558365,\n",
              " 0.9555747599707065,\n",
              " 0.9505201623994984,\n",
              " 0.9563250612353394,\n",
              " 0.9569963579874834,\n",
              " 0.9684877092914351,\n",
              " 0.9781229981609234,\n",
              " 0.9566804607395337,\n",
              " 0.9635515580879574,\n",
              " 0.9821115180215558,\n",
              " 0.9851916671915735,\n",
              " 0.9967620230080145,\n",
              " 1.0,\n",
              " 0.9864552561833719,\n",
              " 0.9730684005897154]"
            ]
          },
          "metadata": {},
          "execution_count": 44
        }
      ]
    },
    {
      "cell_type": "code",
      "source": [
        "from numpy import array\n",
        "lst_output = []\n",
        "n_steps = 100\n",
        "i=0\n",
        "while(i<30):\n",
        "   if(len(temp_input)>100):\n",
        "     x_input=np.array(temp_input[1:])\n",
        "     print(\"{} day input {}\".format(i,x_input))\n",
        "     x_input=x_input.reshape(1,-1)\n",
        "     x_input=x_input.reshape((1,n_steps,1))\n",
        "     yhat=model.predict(x_input,verbose=0)\n",
        "     print(\"{} day output {}\".format(i,yhat))\n",
        "     temp_input.extend(yhat[0].tolist())\n",
        "     temp_input=temp_input[1:]\n",
        "     lst_output.extend(yhat.tolist())\n",
        "     i=i+1\n",
        "   else:\n",
        "     x_input=x_input.reshape((1,n_steps,1))\n",
        "     yhat=model.predict(x_input,verbose=0)\n",
        "     print(yhat[0])\n",
        "     temp_input.extend(yhat[0].tolist())\n",
        "     print(len(temp_input))\n",
        "     lst_output.extend(yhat.tolist())\n",
        "     i=i+1\n",
        "print(lst_output)"
      ],
      "metadata": {
        "colab": {
          "base_uri": "https://localhost:8080/"
        },
        "id": "lnNqSjswedkp",
        "outputId": "89627fe5-445f-4ced-c559-3d81b1462c25"
      },
      "execution_count": 48,
      "outputs": [
        {
          "output_type": "stream",
          "name": "stdout",
          "text": [
            "[0.9953992]\n",
            "101\n",
            "1 day input [0.8291409  0.83521555 0.84996826 0.85174332 0.86357703 0.86882334\n",
            " 0.86819221 0.87063778 0.87020392 0.86282757 0.87193948 0.87328069\n",
            " 0.87663355 0.8705589  0.88357598 0.88045983 0.85588508 0.84831158\n",
            " 0.85434673 0.84819319 0.84854823 0.84539252 0.85545122 0.85588508\n",
            " 0.85482009 0.83044267 0.83229655 0.84768039 0.87994697 0.87730412\n",
            " 0.87048007 0.87403014 0.87008554 0.87462183 0.87568688 0.89623814\n",
            " 0.86945447 0.87170283 0.8673243  0.87178178 0.851625   0.86771884\n",
            " 0.88258987 0.8806176  0.87474016 0.88953236 0.899591   0.89142569\n",
            " 0.89288522 0.90412724 0.90996524 0.9075196  0.88740226 0.88665281\n",
            " 0.88996622 0.89781594 0.89888099 0.88479886 0.86827109 0.85643732\n",
            " 0.8528872  0.85856743 0.85568787 0.874464   0.87339787 0.86261731\n",
            " 0.86261731 0.86613181 0.87837346 0.86565796 0.87758366 0.87861041\n",
            " 0.88145361 0.87955816 0.88488916 0.89673591 0.905384   0.90487065\n",
            " 0.91434806 0.92327261 0.93535631 0.93677791 0.93689635 0.93610655\n",
            " 0.95154686 0.95557476 0.95052016 0.95632506 0.95699636 0.96848771\n",
            " 0.978123   0.95668046 0.96355156 0.98211152 0.98519167 0.99676202\n",
            " 1.         0.98645526 0.9730684  0.99539918]\n",
            "1 day output [[0.990525]]\n",
            "2 day input [0.83521555 0.84996826 0.85174332 0.86357703 0.86882334 0.86819221\n",
            " 0.87063778 0.87020392 0.86282757 0.87193948 0.87328069 0.87663355\n",
            " 0.8705589  0.88357598 0.88045983 0.85588508 0.84831158 0.85434673\n",
            " 0.84819319 0.84854823 0.84539252 0.85545122 0.85588508 0.85482009\n",
            " 0.83044267 0.83229655 0.84768039 0.87994697 0.87730412 0.87048007\n",
            " 0.87403014 0.87008554 0.87462183 0.87568688 0.89623814 0.86945447\n",
            " 0.87170283 0.8673243  0.87178178 0.851625   0.86771884 0.88258987\n",
            " 0.8806176  0.87474016 0.88953236 0.899591   0.89142569 0.89288522\n",
            " 0.90412724 0.90996524 0.9075196  0.88740226 0.88665281 0.88996622\n",
            " 0.89781594 0.89888099 0.88479886 0.86827109 0.85643732 0.8528872\n",
            " 0.85856743 0.85568787 0.874464   0.87339787 0.86261731 0.86261731\n",
            " 0.86613181 0.87837346 0.86565796 0.87758366 0.87861041 0.88145361\n",
            " 0.87955816 0.88488916 0.89673591 0.905384   0.90487065 0.91434806\n",
            " 0.92327261 0.93535631 0.93677791 0.93689635 0.93610655 0.95154686\n",
            " 0.95557476 0.95052016 0.95632506 0.95699636 0.96848771 0.978123\n",
            " 0.95668046 0.96355156 0.98211152 0.98519167 0.99676202 1.\n",
            " 0.98645526 0.9730684  0.99539918 0.99052501]\n",
            "2 day output [[0.98875594]]\n",
            "3 day input [0.84996826 0.85174332 0.86357703 0.86882334 0.86819221 0.87063778\n",
            " 0.87020392 0.86282757 0.87193948 0.87328069 0.87663355 0.8705589\n",
            " 0.88357598 0.88045983 0.85588508 0.84831158 0.85434673 0.84819319\n",
            " 0.84854823 0.84539252 0.85545122 0.85588508 0.85482009 0.83044267\n",
            " 0.83229655 0.84768039 0.87994697 0.87730412 0.87048007 0.87403014\n",
            " 0.87008554 0.87462183 0.87568688 0.89623814 0.86945447 0.87170283\n",
            " 0.8673243  0.87178178 0.851625   0.86771884 0.88258987 0.8806176\n",
            " 0.87474016 0.88953236 0.899591   0.89142569 0.89288522 0.90412724\n",
            " 0.90996524 0.9075196  0.88740226 0.88665281 0.88996622 0.89781594\n",
            " 0.89888099 0.88479886 0.86827109 0.85643732 0.8528872  0.85856743\n",
            " 0.85568787 0.874464   0.87339787 0.86261731 0.86261731 0.86613181\n",
            " 0.87837346 0.86565796 0.87758366 0.87861041 0.88145361 0.87955816\n",
            " 0.88488916 0.89673591 0.905384   0.90487065 0.91434806 0.92327261\n",
            " 0.93535631 0.93677791 0.93689635 0.93610655 0.95154686 0.95557476\n",
            " 0.95052016 0.95632506 0.95699636 0.96848771 0.978123   0.95668046\n",
            " 0.96355156 0.98211152 0.98519167 0.99676202 1.         0.98645526\n",
            " 0.9730684  0.99539918 0.99052501 0.98875594]\n",
            "3 day output [[0.9885405]]\n",
            "4 day input [0.85174332 0.86357703 0.86882334 0.86819221 0.87063778 0.87020392\n",
            " 0.86282757 0.87193948 0.87328069 0.87663355 0.8705589  0.88357598\n",
            " 0.88045983 0.85588508 0.84831158 0.85434673 0.84819319 0.84854823\n",
            " 0.84539252 0.85545122 0.85588508 0.85482009 0.83044267 0.83229655\n",
            " 0.84768039 0.87994697 0.87730412 0.87048007 0.87403014 0.87008554\n",
            " 0.87462183 0.87568688 0.89623814 0.86945447 0.87170283 0.8673243\n",
            " 0.87178178 0.851625   0.86771884 0.88258987 0.8806176  0.87474016\n",
            " 0.88953236 0.899591   0.89142569 0.89288522 0.90412724 0.90996524\n",
            " 0.9075196  0.88740226 0.88665281 0.88996622 0.89781594 0.89888099\n",
            " 0.88479886 0.86827109 0.85643732 0.8528872  0.85856743 0.85568787\n",
            " 0.874464   0.87339787 0.86261731 0.86261731 0.86613181 0.87837346\n",
            " 0.86565796 0.87758366 0.87861041 0.88145361 0.87955816 0.88488916\n",
            " 0.89673591 0.905384   0.90487065 0.91434806 0.92327261 0.93535631\n",
            " 0.93677791 0.93689635 0.93610655 0.95154686 0.95557476 0.95052016\n",
            " 0.95632506 0.95699636 0.96848771 0.978123   0.95668046 0.96355156\n",
            " 0.98211152 0.98519167 0.99676202 1.         0.98645526 0.9730684\n",
            " 0.99539918 0.99052501 0.98875594 0.98854047]\n",
            "4 day output [[0.98889875]]\n",
            "5 day input [0.86357703 0.86882334 0.86819221 0.87063778 0.87020392 0.86282757\n",
            " 0.87193948 0.87328069 0.87663355 0.8705589  0.88357598 0.88045983\n",
            " 0.85588508 0.84831158 0.85434673 0.84819319 0.84854823 0.84539252\n",
            " 0.85545122 0.85588508 0.85482009 0.83044267 0.83229655 0.84768039\n",
            " 0.87994697 0.87730412 0.87048007 0.87403014 0.87008554 0.87462183\n",
            " 0.87568688 0.89623814 0.86945447 0.87170283 0.8673243  0.87178178\n",
            " 0.851625   0.86771884 0.88258987 0.8806176  0.87474016 0.88953236\n",
            " 0.899591   0.89142569 0.89288522 0.90412724 0.90996524 0.9075196\n",
            " 0.88740226 0.88665281 0.88996622 0.89781594 0.89888099 0.88479886\n",
            " 0.86827109 0.85643732 0.8528872  0.85856743 0.85568787 0.874464\n",
            " 0.87339787 0.86261731 0.86261731 0.86613181 0.87837346 0.86565796\n",
            " 0.87758366 0.87861041 0.88145361 0.87955816 0.88488916 0.89673591\n",
            " 0.905384   0.90487065 0.91434806 0.92327261 0.93535631 0.93677791\n",
            " 0.93689635 0.93610655 0.95154686 0.95557476 0.95052016 0.95632506\n",
            " 0.95699636 0.96848771 0.978123   0.95668046 0.96355156 0.98211152\n",
            " 0.98519167 0.99676202 1.         0.98645526 0.9730684  0.99539918\n",
            " 0.99052501 0.98875594 0.98854047 0.98889875]\n",
            "5 day output [[0.9894628]]\n",
            "6 day input [0.86882334 0.86819221 0.87063778 0.87020392 0.86282757 0.87193948\n",
            " 0.87328069 0.87663355 0.8705589  0.88357598 0.88045983 0.85588508\n",
            " 0.84831158 0.85434673 0.84819319 0.84854823 0.84539252 0.85545122\n",
            " 0.85588508 0.85482009 0.83044267 0.83229655 0.84768039 0.87994697\n",
            " 0.87730412 0.87048007 0.87403014 0.87008554 0.87462183 0.87568688\n",
            " 0.89623814 0.86945447 0.87170283 0.8673243  0.87178178 0.851625\n",
            " 0.86771884 0.88258987 0.8806176  0.87474016 0.88953236 0.899591\n",
            " 0.89142569 0.89288522 0.90412724 0.90996524 0.9075196  0.88740226\n",
            " 0.88665281 0.88996622 0.89781594 0.89888099 0.88479886 0.86827109\n",
            " 0.85643732 0.8528872  0.85856743 0.85568787 0.874464   0.87339787\n",
            " 0.86261731 0.86261731 0.86613181 0.87837346 0.86565796 0.87758366\n",
            " 0.87861041 0.88145361 0.87955816 0.88488916 0.89673591 0.905384\n",
            " 0.90487065 0.91434806 0.92327261 0.93535631 0.93677791 0.93689635\n",
            " 0.93610655 0.95154686 0.95557476 0.95052016 0.95632506 0.95699636\n",
            " 0.96848771 0.978123   0.95668046 0.96355156 0.98211152 0.98519167\n",
            " 0.99676202 1.         0.98645526 0.9730684  0.99539918 0.99052501\n",
            " 0.98875594 0.98854047 0.98889875 0.98946279]\n",
            "6 day output [[0.9901398]]\n",
            "7 day input [0.86819221 0.87063778 0.87020392 0.86282757 0.87193948 0.87328069\n",
            " 0.87663355 0.8705589  0.88357598 0.88045983 0.85588508 0.84831158\n",
            " 0.85434673 0.84819319 0.84854823 0.84539252 0.85545122 0.85588508\n",
            " 0.85482009 0.83044267 0.83229655 0.84768039 0.87994697 0.87730412\n",
            " 0.87048007 0.87403014 0.87008554 0.87462183 0.87568688 0.89623814\n",
            " 0.86945447 0.87170283 0.8673243  0.87178178 0.851625   0.86771884\n",
            " 0.88258987 0.8806176  0.87474016 0.88953236 0.899591   0.89142569\n",
            " 0.89288522 0.90412724 0.90996524 0.9075196  0.88740226 0.88665281\n",
            " 0.88996622 0.89781594 0.89888099 0.88479886 0.86827109 0.85643732\n",
            " 0.8528872  0.85856743 0.85568787 0.874464   0.87339787 0.86261731\n",
            " 0.86261731 0.86613181 0.87837346 0.86565796 0.87758366 0.87861041\n",
            " 0.88145361 0.87955816 0.88488916 0.89673591 0.905384   0.90487065\n",
            " 0.91434806 0.92327261 0.93535631 0.93677791 0.93689635 0.93610655\n",
            " 0.95154686 0.95557476 0.95052016 0.95632506 0.95699636 0.96848771\n",
            " 0.978123   0.95668046 0.96355156 0.98211152 0.98519167 0.99676202\n",
            " 1.         0.98645526 0.9730684  0.99539918 0.99052501 0.98875594\n",
            " 0.98854047 0.98889875 0.98946279 0.99013978]\n",
            "7 day output [[0.99090225]]\n",
            "8 day input [0.87063778 0.87020392 0.86282757 0.87193948 0.87328069 0.87663355\n",
            " 0.8705589  0.88357598 0.88045983 0.85588508 0.84831158 0.85434673\n",
            " 0.84819319 0.84854823 0.84539252 0.85545122 0.85588508 0.85482009\n",
            " 0.83044267 0.83229655 0.84768039 0.87994697 0.87730412 0.87048007\n",
            " 0.87403014 0.87008554 0.87462183 0.87568688 0.89623814 0.86945447\n",
            " 0.87170283 0.8673243  0.87178178 0.851625   0.86771884 0.88258987\n",
            " 0.8806176  0.87474016 0.88953236 0.899591   0.89142569 0.89288522\n",
            " 0.90412724 0.90996524 0.9075196  0.88740226 0.88665281 0.88996622\n",
            " 0.89781594 0.89888099 0.88479886 0.86827109 0.85643732 0.8528872\n",
            " 0.85856743 0.85568787 0.874464   0.87339787 0.86261731 0.86261731\n",
            " 0.86613181 0.87837346 0.86565796 0.87758366 0.87861041 0.88145361\n",
            " 0.87955816 0.88488916 0.89673591 0.905384   0.90487065 0.91434806\n",
            " 0.92327261 0.93535631 0.93677791 0.93689635 0.93610655 0.95154686\n",
            " 0.95557476 0.95052016 0.95632506 0.95699636 0.96848771 0.978123\n",
            " 0.95668046 0.96355156 0.98211152 0.98519167 0.99676202 1.\n",
            " 0.98645526 0.9730684  0.99539918 0.99052501 0.98875594 0.98854047\n",
            " 0.98889875 0.98946279 0.99013978 0.99090225]\n",
            "8 day output [[0.9917173]]\n",
            "9 day input [0.87020392 0.86282757 0.87193948 0.87328069 0.87663355 0.8705589\n",
            " 0.88357598 0.88045983 0.85588508 0.84831158 0.85434673 0.84819319\n",
            " 0.84854823 0.84539252 0.85545122 0.85588508 0.85482009 0.83044267\n",
            " 0.83229655 0.84768039 0.87994697 0.87730412 0.87048007 0.87403014\n",
            " 0.87008554 0.87462183 0.87568688 0.89623814 0.86945447 0.87170283\n",
            " 0.8673243  0.87178178 0.851625   0.86771884 0.88258987 0.8806176\n",
            " 0.87474016 0.88953236 0.899591   0.89142569 0.89288522 0.90412724\n",
            " 0.90996524 0.9075196  0.88740226 0.88665281 0.88996622 0.89781594\n",
            " 0.89888099 0.88479886 0.86827109 0.85643732 0.8528872  0.85856743\n",
            " 0.85568787 0.874464   0.87339787 0.86261731 0.86261731 0.86613181\n",
            " 0.87837346 0.86565796 0.87758366 0.87861041 0.88145361 0.87955816\n",
            " 0.88488916 0.89673591 0.905384   0.90487065 0.91434806 0.92327261\n",
            " 0.93535631 0.93677791 0.93689635 0.93610655 0.95154686 0.95557476\n",
            " 0.95052016 0.95632506 0.95699636 0.96848771 0.978123   0.95668046\n",
            " 0.96355156 0.98211152 0.98519167 0.99676202 1.         0.98645526\n",
            " 0.9730684  0.99539918 0.99052501 0.98875594 0.98854047 0.98889875\n",
            " 0.98946279 0.99013978 0.99090225 0.99171728]\n",
            "9 day output [[0.992539]]\n",
            "10 day input [0.86282757 0.87193948 0.87328069 0.87663355 0.8705589  0.88357598\n",
            " 0.88045983 0.85588508 0.84831158 0.85434673 0.84819319 0.84854823\n",
            " 0.84539252 0.85545122 0.85588508 0.85482009 0.83044267 0.83229655\n",
            " 0.84768039 0.87994697 0.87730412 0.87048007 0.87403014 0.87008554\n",
            " 0.87462183 0.87568688 0.89623814 0.86945447 0.87170283 0.8673243\n",
            " 0.87178178 0.851625   0.86771884 0.88258987 0.8806176  0.87474016\n",
            " 0.88953236 0.899591   0.89142569 0.89288522 0.90412724 0.90996524\n",
            " 0.9075196  0.88740226 0.88665281 0.88996622 0.89781594 0.89888099\n",
            " 0.88479886 0.86827109 0.85643732 0.8528872  0.85856743 0.85568787\n",
            " 0.874464   0.87339787 0.86261731 0.86261731 0.86613181 0.87837346\n",
            " 0.86565796 0.87758366 0.87861041 0.88145361 0.87955816 0.88488916\n",
            " 0.89673591 0.905384   0.90487065 0.91434806 0.92327261 0.93535631\n",
            " 0.93677791 0.93689635 0.93610655 0.95154686 0.95557476 0.95052016\n",
            " 0.95632506 0.95699636 0.96848771 0.978123   0.95668046 0.96355156\n",
            " 0.98211152 0.98519167 0.99676202 1.         0.98645526 0.9730684\n",
            " 0.99539918 0.99052501 0.98875594 0.98854047 0.98889875 0.98946279\n",
            " 0.99013978 0.99090225 0.99171728 0.99253899]\n",
            "10 day output [[0.99331856]]\n",
            "11 day input [0.87193948 0.87328069 0.87663355 0.8705589  0.88357598 0.88045983\n",
            " 0.85588508 0.84831158 0.85434673 0.84819319 0.84854823 0.84539252\n",
            " 0.85545122 0.85588508 0.85482009 0.83044267 0.83229655 0.84768039\n",
            " 0.87994697 0.87730412 0.87048007 0.87403014 0.87008554 0.87462183\n",
            " 0.87568688 0.89623814 0.86945447 0.87170283 0.8673243  0.87178178\n",
            " 0.851625   0.86771884 0.88258987 0.8806176  0.87474016 0.88953236\n",
            " 0.899591   0.89142569 0.89288522 0.90412724 0.90996524 0.9075196\n",
            " 0.88740226 0.88665281 0.88996622 0.89781594 0.89888099 0.88479886\n",
            " 0.86827109 0.85643732 0.8528872  0.85856743 0.85568787 0.874464\n",
            " 0.87339787 0.86261731 0.86261731 0.86613181 0.87837346 0.86565796\n",
            " 0.87758366 0.87861041 0.88145361 0.87955816 0.88488916 0.89673591\n",
            " 0.905384   0.90487065 0.91434806 0.92327261 0.93535631 0.93677791\n",
            " 0.93689635 0.93610655 0.95154686 0.95557476 0.95052016 0.95632506\n",
            " 0.95699636 0.96848771 0.978123   0.95668046 0.96355156 0.98211152\n",
            " 0.98519167 0.99676202 1.         0.98645526 0.9730684  0.99539918\n",
            " 0.99052501 0.98875594 0.98854047 0.98889875 0.98946279 0.99013978\n",
            " 0.99090225 0.99171728 0.99253899 0.99331856]\n",
            "11 day output [[0.99401456]]\n",
            "12 day input [0.87328069 0.87663355 0.8705589  0.88357598 0.88045983 0.85588508\n",
            " 0.84831158 0.85434673 0.84819319 0.84854823 0.84539252 0.85545122\n",
            " 0.85588508 0.85482009 0.83044267 0.83229655 0.84768039 0.87994697\n",
            " 0.87730412 0.87048007 0.87403014 0.87008554 0.87462183 0.87568688\n",
            " 0.89623814 0.86945447 0.87170283 0.8673243  0.87178178 0.851625\n",
            " 0.86771884 0.88258987 0.8806176  0.87474016 0.88953236 0.899591\n",
            " 0.89142569 0.89288522 0.90412724 0.90996524 0.9075196  0.88740226\n",
            " 0.88665281 0.88996622 0.89781594 0.89888099 0.88479886 0.86827109\n",
            " 0.85643732 0.8528872  0.85856743 0.85568787 0.874464   0.87339787\n",
            " 0.86261731 0.86261731 0.86613181 0.87837346 0.86565796 0.87758366\n",
            " 0.87861041 0.88145361 0.87955816 0.88488916 0.89673591 0.905384\n",
            " 0.90487065 0.91434806 0.92327261 0.93535631 0.93677791 0.93689635\n",
            " 0.93610655 0.95154686 0.95557476 0.95052016 0.95632506 0.95699636\n",
            " 0.96848771 0.978123   0.95668046 0.96355156 0.98211152 0.98519167\n",
            " 0.99676202 1.         0.98645526 0.9730684  0.99539918 0.99052501\n",
            " 0.98875594 0.98854047 0.98889875 0.98946279 0.99013978 0.99090225\n",
            " 0.99171728 0.99253899 0.99331856 0.99401456]\n",
            "12 day output [[0.9945956]]\n",
            "13 day input [0.87663355 0.8705589  0.88357598 0.88045983 0.85588508 0.84831158\n",
            " 0.85434673 0.84819319 0.84854823 0.84539252 0.85545122 0.85588508\n",
            " 0.85482009 0.83044267 0.83229655 0.84768039 0.87994697 0.87730412\n",
            " 0.87048007 0.87403014 0.87008554 0.87462183 0.87568688 0.89623814\n",
            " 0.86945447 0.87170283 0.8673243  0.87178178 0.851625   0.86771884\n",
            " 0.88258987 0.8806176  0.87474016 0.88953236 0.899591   0.89142569\n",
            " 0.89288522 0.90412724 0.90996524 0.9075196  0.88740226 0.88665281\n",
            " 0.88996622 0.89781594 0.89888099 0.88479886 0.86827109 0.85643732\n",
            " 0.8528872  0.85856743 0.85568787 0.874464   0.87339787 0.86261731\n",
            " 0.86261731 0.86613181 0.87837346 0.86565796 0.87758366 0.87861041\n",
            " 0.88145361 0.87955816 0.88488916 0.89673591 0.905384   0.90487065\n",
            " 0.91434806 0.92327261 0.93535631 0.93677791 0.93689635 0.93610655\n",
            " 0.95154686 0.95557476 0.95052016 0.95632506 0.95699636 0.96848771\n",
            " 0.978123   0.95668046 0.96355156 0.98211152 0.98519167 0.99676202\n",
            " 1.         0.98645526 0.9730684  0.99539918 0.99052501 0.98875594\n",
            " 0.98854047 0.98889875 0.98946279 0.99013978 0.99090225 0.99171728\n",
            " 0.99253899 0.99331856 0.99401456 0.99459559]\n",
            "13 day output [[0.9950436]]\n",
            "14 day input [0.8705589  0.88357598 0.88045983 0.85588508 0.84831158 0.85434673\n",
            " 0.84819319 0.84854823 0.84539252 0.85545122 0.85588508 0.85482009\n",
            " 0.83044267 0.83229655 0.84768039 0.87994697 0.87730412 0.87048007\n",
            " 0.87403014 0.87008554 0.87462183 0.87568688 0.89623814 0.86945447\n",
            " 0.87170283 0.8673243  0.87178178 0.851625   0.86771884 0.88258987\n",
            " 0.8806176  0.87474016 0.88953236 0.899591   0.89142569 0.89288522\n",
            " 0.90412724 0.90996524 0.9075196  0.88740226 0.88665281 0.88996622\n",
            " 0.89781594 0.89888099 0.88479886 0.86827109 0.85643732 0.8528872\n",
            " 0.85856743 0.85568787 0.874464   0.87339787 0.86261731 0.86261731\n",
            " 0.86613181 0.87837346 0.86565796 0.87758366 0.87861041 0.88145361\n",
            " 0.87955816 0.88488916 0.89673591 0.905384   0.90487065 0.91434806\n",
            " 0.92327261 0.93535631 0.93677791 0.93689635 0.93610655 0.95154686\n",
            " 0.95557476 0.95052016 0.95632506 0.95699636 0.96848771 0.978123\n",
            " 0.95668046 0.96355156 0.98211152 0.98519167 0.99676202 1.\n",
            " 0.98645526 0.9730684  0.99539918 0.99052501 0.98875594 0.98854047\n",
            " 0.98889875 0.98946279 0.99013978 0.99090225 0.99171728 0.99253899\n",
            " 0.99331856 0.99401456 0.99459559 0.99504358]\n",
            "14 day output [[0.9953516]]\n",
            "15 day input [0.88357598 0.88045983 0.85588508 0.84831158 0.85434673 0.84819319\n",
            " 0.84854823 0.84539252 0.85545122 0.85588508 0.85482009 0.83044267\n",
            " 0.83229655 0.84768039 0.87994697 0.87730412 0.87048007 0.87403014\n",
            " 0.87008554 0.87462183 0.87568688 0.89623814 0.86945447 0.87170283\n",
            " 0.8673243  0.87178178 0.851625   0.86771884 0.88258987 0.8806176\n",
            " 0.87474016 0.88953236 0.899591   0.89142569 0.89288522 0.90412724\n",
            " 0.90996524 0.9075196  0.88740226 0.88665281 0.88996622 0.89781594\n",
            " 0.89888099 0.88479886 0.86827109 0.85643732 0.8528872  0.85856743\n",
            " 0.85568787 0.874464   0.87339787 0.86261731 0.86261731 0.86613181\n",
            " 0.87837346 0.86565796 0.87758366 0.87861041 0.88145361 0.87955816\n",
            " 0.88488916 0.89673591 0.905384   0.90487065 0.91434806 0.92327261\n",
            " 0.93535631 0.93677791 0.93689635 0.93610655 0.95154686 0.95557476\n",
            " 0.95052016 0.95632506 0.95699636 0.96848771 0.978123   0.95668046\n",
            " 0.96355156 0.98211152 0.98519167 0.99676202 1.         0.98645526\n",
            " 0.9730684  0.99539918 0.99052501 0.98875594 0.98854047 0.98889875\n",
            " 0.98946279 0.99013978 0.99090225 0.99171728 0.99253899 0.99331856\n",
            " 0.99401456 0.99459559 0.99504358 0.99535161]\n",
            "15 day output [[0.99552333]]\n",
            "16 day input [0.88045983 0.85588508 0.84831158 0.85434673 0.84819319 0.84854823\n",
            " 0.84539252 0.85545122 0.85588508 0.85482009 0.83044267 0.83229655\n",
            " 0.84768039 0.87994697 0.87730412 0.87048007 0.87403014 0.87008554\n",
            " 0.87462183 0.87568688 0.89623814 0.86945447 0.87170283 0.8673243\n",
            " 0.87178178 0.851625   0.86771884 0.88258987 0.8806176  0.87474016\n",
            " 0.88953236 0.899591   0.89142569 0.89288522 0.90412724 0.90996524\n",
            " 0.9075196  0.88740226 0.88665281 0.88996622 0.89781594 0.89888099\n",
            " 0.88479886 0.86827109 0.85643732 0.8528872  0.85856743 0.85568787\n",
            " 0.874464   0.87339787 0.86261731 0.86261731 0.86613181 0.87837346\n",
            " 0.86565796 0.87758366 0.87861041 0.88145361 0.87955816 0.88488916\n",
            " 0.89673591 0.905384   0.90487065 0.91434806 0.92327261 0.93535631\n",
            " 0.93677791 0.93689635 0.93610655 0.95154686 0.95557476 0.95052016\n",
            " 0.95632506 0.95699636 0.96848771 0.978123   0.95668046 0.96355156\n",
            " 0.98211152 0.98519167 0.99676202 1.         0.98645526 0.9730684\n",
            " 0.99539918 0.99052501 0.98875594 0.98854047 0.98889875 0.98946279\n",
            " 0.99013978 0.99090225 0.99171728 0.99253899 0.99331856 0.99401456\n",
            " 0.99459559 0.99504358 0.99535161 0.99552333]\n",
            "16 day output [[0.99556935]]\n",
            "17 day input [0.85588508 0.84831158 0.85434673 0.84819319 0.84854823 0.84539252\n",
            " 0.85545122 0.85588508 0.85482009 0.83044267 0.83229655 0.84768039\n",
            " 0.87994697 0.87730412 0.87048007 0.87403014 0.87008554 0.87462183\n",
            " 0.87568688 0.89623814 0.86945447 0.87170283 0.8673243  0.87178178\n",
            " 0.851625   0.86771884 0.88258987 0.8806176  0.87474016 0.88953236\n",
            " 0.899591   0.89142569 0.89288522 0.90412724 0.90996524 0.9075196\n",
            " 0.88740226 0.88665281 0.88996622 0.89781594 0.89888099 0.88479886\n",
            " 0.86827109 0.85643732 0.8528872  0.85856743 0.85568787 0.874464\n",
            " 0.87339787 0.86261731 0.86261731 0.86613181 0.87837346 0.86565796\n",
            " 0.87758366 0.87861041 0.88145361 0.87955816 0.88488916 0.89673591\n",
            " 0.905384   0.90487065 0.91434806 0.92327261 0.93535631 0.93677791\n",
            " 0.93689635 0.93610655 0.95154686 0.95557476 0.95052016 0.95632506\n",
            " 0.95699636 0.96848771 0.978123   0.95668046 0.96355156 0.98211152\n",
            " 0.98519167 0.99676202 1.         0.98645526 0.9730684  0.99539918\n",
            " 0.99052501 0.98875594 0.98854047 0.98889875 0.98946279 0.99013978\n",
            " 0.99090225 0.99171728 0.99253899 0.99331856 0.99401456 0.99459559\n",
            " 0.99504358 0.99535161 0.99552333 0.99556935]\n",
            "17 day output [[0.9955053]]\n",
            "18 day input [0.84831158 0.85434673 0.84819319 0.84854823 0.84539252 0.85545122\n",
            " 0.85588508 0.85482009 0.83044267 0.83229655 0.84768039 0.87994697\n",
            " 0.87730412 0.87048007 0.87403014 0.87008554 0.87462183 0.87568688\n",
            " 0.89623814 0.86945447 0.87170283 0.8673243  0.87178178 0.851625\n",
            " 0.86771884 0.88258987 0.8806176  0.87474016 0.88953236 0.899591\n",
            " 0.89142569 0.89288522 0.90412724 0.90996524 0.9075196  0.88740226\n",
            " 0.88665281 0.88996622 0.89781594 0.89888099 0.88479886 0.86827109\n",
            " 0.85643732 0.8528872  0.85856743 0.85568787 0.874464   0.87339787\n",
            " 0.86261731 0.86261731 0.86613181 0.87837346 0.86565796 0.87758366\n",
            " 0.87861041 0.88145361 0.87955816 0.88488916 0.89673591 0.905384\n",
            " 0.90487065 0.91434806 0.92327261 0.93535631 0.93677791 0.93689635\n",
            " 0.93610655 0.95154686 0.95557476 0.95052016 0.95632506 0.95699636\n",
            " 0.96848771 0.978123   0.95668046 0.96355156 0.98211152 0.98519167\n",
            " 0.99676202 1.         0.98645526 0.9730684  0.99539918 0.99052501\n",
            " 0.98875594 0.98854047 0.98889875 0.98946279 0.99013978 0.99090225\n",
            " 0.99171728 0.99253899 0.99331856 0.99401456 0.99459559 0.99504358\n",
            " 0.99535161 0.99552333 0.99556935 0.99550527]\n",
            "18 day output [[0.9953494]]\n",
            "19 day input [0.85434673 0.84819319 0.84854823 0.84539252 0.85545122 0.85588508\n",
            " 0.85482009 0.83044267 0.83229655 0.84768039 0.87994697 0.87730412\n",
            " 0.87048007 0.87403014 0.87008554 0.87462183 0.87568688 0.89623814\n",
            " 0.86945447 0.87170283 0.8673243  0.87178178 0.851625   0.86771884\n",
            " 0.88258987 0.8806176  0.87474016 0.88953236 0.899591   0.89142569\n",
            " 0.89288522 0.90412724 0.90996524 0.9075196  0.88740226 0.88665281\n",
            " 0.88996622 0.89781594 0.89888099 0.88479886 0.86827109 0.85643732\n",
            " 0.8528872  0.85856743 0.85568787 0.874464   0.87339787 0.86261731\n",
            " 0.86261731 0.86613181 0.87837346 0.86565796 0.87758366 0.87861041\n",
            " 0.88145361 0.87955816 0.88488916 0.89673591 0.905384   0.90487065\n",
            " 0.91434806 0.92327261 0.93535631 0.93677791 0.93689635 0.93610655\n",
            " 0.95154686 0.95557476 0.95052016 0.95632506 0.95699636 0.96848771\n",
            " 0.978123   0.95668046 0.96355156 0.98211152 0.98519167 0.99676202\n",
            " 1.         0.98645526 0.9730684  0.99539918 0.99052501 0.98875594\n",
            " 0.98854047 0.98889875 0.98946279 0.99013978 0.99090225 0.99171728\n",
            " 0.99253899 0.99331856 0.99401456 0.99459559 0.99504358 0.99535161\n",
            " 0.99552333 0.99556935 0.99550527 0.99534941]\n",
            "19 day output [[0.99512064]]\n",
            "20 day input [0.84819319 0.84854823 0.84539252 0.85545122 0.85588508 0.85482009\n",
            " 0.83044267 0.83229655 0.84768039 0.87994697 0.87730412 0.87048007\n",
            " 0.87403014 0.87008554 0.87462183 0.87568688 0.89623814 0.86945447\n",
            " 0.87170283 0.8673243  0.87178178 0.851625   0.86771884 0.88258987\n",
            " 0.8806176  0.87474016 0.88953236 0.899591   0.89142569 0.89288522\n",
            " 0.90412724 0.90996524 0.9075196  0.88740226 0.88665281 0.88996622\n",
            " 0.89781594 0.89888099 0.88479886 0.86827109 0.85643732 0.8528872\n",
            " 0.85856743 0.85568787 0.874464   0.87339787 0.86261731 0.86261731\n",
            " 0.86613181 0.87837346 0.86565796 0.87758366 0.87861041 0.88145361\n",
            " 0.87955816 0.88488916 0.89673591 0.905384   0.90487065 0.91434806\n",
            " 0.92327261 0.93535631 0.93677791 0.93689635 0.93610655 0.95154686\n",
            " 0.95557476 0.95052016 0.95632506 0.95699636 0.96848771 0.978123\n",
            " 0.95668046 0.96355156 0.98211152 0.98519167 0.99676202 1.\n",
            " 0.98645526 0.9730684  0.99539918 0.99052501 0.98875594 0.98854047\n",
            " 0.98889875 0.98946279 0.99013978 0.99090225 0.99171728 0.99253899\n",
            " 0.99331856 0.99401456 0.99459559 0.99504358 0.99535161 0.99552333\n",
            " 0.99556935 0.99550527 0.99534941 0.99512064]\n",
            "20 day output [[0.9948358]]\n",
            "21 day input [0.84854823 0.84539252 0.85545122 0.85588508 0.85482009 0.83044267\n",
            " 0.83229655 0.84768039 0.87994697 0.87730412 0.87048007 0.87403014\n",
            " 0.87008554 0.87462183 0.87568688 0.89623814 0.86945447 0.87170283\n",
            " 0.8673243  0.87178178 0.851625   0.86771884 0.88258987 0.8806176\n",
            " 0.87474016 0.88953236 0.899591   0.89142569 0.89288522 0.90412724\n",
            " 0.90996524 0.9075196  0.88740226 0.88665281 0.88996622 0.89781594\n",
            " 0.89888099 0.88479886 0.86827109 0.85643732 0.8528872  0.85856743\n",
            " 0.85568787 0.874464   0.87339787 0.86261731 0.86261731 0.86613181\n",
            " 0.87837346 0.86565796 0.87758366 0.87861041 0.88145361 0.87955816\n",
            " 0.88488916 0.89673591 0.905384   0.90487065 0.91434806 0.92327261\n",
            " 0.93535631 0.93677791 0.93689635 0.93610655 0.95154686 0.95557476\n",
            " 0.95052016 0.95632506 0.95699636 0.96848771 0.978123   0.95668046\n",
            " 0.96355156 0.98211152 0.98519167 0.99676202 1.         0.98645526\n",
            " 0.9730684  0.99539918 0.99052501 0.98875594 0.98854047 0.98889875\n",
            " 0.98946279 0.99013978 0.99090225 0.99171728 0.99253899 0.99331856\n",
            " 0.99401456 0.99459559 0.99504358 0.99535161 0.99552333 0.99556935\n",
            " 0.99550527 0.99534941 0.99512064 0.99483579]\n",
            "21 day output [[0.99450964]]\n",
            "22 day input [0.84539252 0.85545122 0.85588508 0.85482009 0.83044267 0.83229655\n",
            " 0.84768039 0.87994697 0.87730412 0.87048007 0.87403014 0.87008554\n",
            " 0.87462183 0.87568688 0.89623814 0.86945447 0.87170283 0.8673243\n",
            " 0.87178178 0.851625   0.86771884 0.88258987 0.8806176  0.87474016\n",
            " 0.88953236 0.899591   0.89142569 0.89288522 0.90412724 0.90996524\n",
            " 0.9075196  0.88740226 0.88665281 0.88996622 0.89781594 0.89888099\n",
            " 0.88479886 0.86827109 0.85643732 0.8528872  0.85856743 0.85568787\n",
            " 0.874464   0.87339787 0.86261731 0.86261731 0.86613181 0.87837346\n",
            " 0.86565796 0.87758366 0.87861041 0.88145361 0.87955816 0.88488916\n",
            " 0.89673591 0.905384   0.90487065 0.91434806 0.92327261 0.93535631\n",
            " 0.93677791 0.93689635 0.93610655 0.95154686 0.95557476 0.95052016\n",
            " 0.95632506 0.95699636 0.96848771 0.978123   0.95668046 0.96355156\n",
            " 0.98211152 0.98519167 0.99676202 1.         0.98645526 0.9730684\n",
            " 0.99539918 0.99052501 0.98875594 0.98854047 0.98889875 0.98946279\n",
            " 0.99013978 0.99090225 0.99171728 0.99253899 0.99331856 0.99401456\n",
            " 0.99459559 0.99504358 0.99535161 0.99552333 0.99556935 0.99550527\n",
            " 0.99534941 0.99512064 0.99483579 0.99450964]\n",
            "22 day output [[0.9941538]]\n",
            "23 day input [0.85545122 0.85588508 0.85482009 0.83044267 0.83229655 0.84768039\n",
            " 0.87994697 0.87730412 0.87048007 0.87403014 0.87008554 0.87462183\n",
            " 0.87568688 0.89623814 0.86945447 0.87170283 0.8673243  0.87178178\n",
            " 0.851625   0.86771884 0.88258987 0.8806176  0.87474016 0.88953236\n",
            " 0.899591   0.89142569 0.89288522 0.90412724 0.90996524 0.9075196\n",
            " 0.88740226 0.88665281 0.88996622 0.89781594 0.89888099 0.88479886\n",
            " 0.86827109 0.85643732 0.8528872  0.85856743 0.85568787 0.874464\n",
            " 0.87339787 0.86261731 0.86261731 0.86613181 0.87837346 0.86565796\n",
            " 0.87758366 0.87861041 0.88145361 0.87955816 0.88488916 0.89673591\n",
            " 0.905384   0.90487065 0.91434806 0.92327261 0.93535631 0.93677791\n",
            " 0.93689635 0.93610655 0.95154686 0.95557476 0.95052016 0.95632506\n",
            " 0.95699636 0.96848771 0.978123   0.95668046 0.96355156 0.98211152\n",
            " 0.98519167 0.99676202 1.         0.98645526 0.9730684  0.99539918\n",
            " 0.99052501 0.98875594 0.98854047 0.98889875 0.98946279 0.99013978\n",
            " 0.99090225 0.99171728 0.99253899 0.99331856 0.99401456 0.99459559\n",
            " 0.99504358 0.99535161 0.99552333 0.99556935 0.99550527 0.99534941\n",
            " 0.99512064 0.99483579 0.99450964 0.9941538 ]\n",
            "23 day output [[0.9937761]]\n",
            "24 day input [0.85588508 0.85482009 0.83044267 0.83229655 0.84768039 0.87994697\n",
            " 0.87730412 0.87048007 0.87403014 0.87008554 0.87462183 0.87568688\n",
            " 0.89623814 0.86945447 0.87170283 0.8673243  0.87178178 0.851625\n",
            " 0.86771884 0.88258987 0.8806176  0.87474016 0.88953236 0.899591\n",
            " 0.89142569 0.89288522 0.90412724 0.90996524 0.9075196  0.88740226\n",
            " 0.88665281 0.88996622 0.89781594 0.89888099 0.88479886 0.86827109\n",
            " 0.85643732 0.8528872  0.85856743 0.85568787 0.874464   0.87339787\n",
            " 0.86261731 0.86261731 0.86613181 0.87837346 0.86565796 0.87758366\n",
            " 0.87861041 0.88145361 0.87955816 0.88488916 0.89673591 0.905384\n",
            " 0.90487065 0.91434806 0.92327261 0.93535631 0.93677791 0.93689635\n",
            " 0.93610655 0.95154686 0.95557476 0.95052016 0.95632506 0.95699636\n",
            " 0.96848771 0.978123   0.95668046 0.96355156 0.98211152 0.98519167\n",
            " 0.99676202 1.         0.98645526 0.9730684  0.99539918 0.99052501\n",
            " 0.98875594 0.98854047 0.98889875 0.98946279 0.99013978 0.99090225\n",
            " 0.99171728 0.99253899 0.99331856 0.99401456 0.99459559 0.99504358\n",
            " 0.99535161 0.99552333 0.99556935 0.99550527 0.99534941 0.99512064\n",
            " 0.99483579 0.99450964 0.9941538  0.99377608]\n",
            "24 day output [[0.9933813]]\n",
            "25 day input [0.85482009 0.83044267 0.83229655 0.84768039 0.87994697 0.87730412\n",
            " 0.87048007 0.87403014 0.87008554 0.87462183 0.87568688 0.89623814\n",
            " 0.86945447 0.87170283 0.8673243  0.87178178 0.851625   0.86771884\n",
            " 0.88258987 0.8806176  0.87474016 0.88953236 0.899591   0.89142569\n",
            " 0.89288522 0.90412724 0.90996524 0.9075196  0.88740226 0.88665281\n",
            " 0.88996622 0.89781594 0.89888099 0.88479886 0.86827109 0.85643732\n",
            " 0.8528872  0.85856743 0.85568787 0.874464   0.87339787 0.86261731\n",
            " 0.86261731 0.86613181 0.87837346 0.86565796 0.87758366 0.87861041\n",
            " 0.88145361 0.87955816 0.88488916 0.89673591 0.905384   0.90487065\n",
            " 0.91434806 0.92327261 0.93535631 0.93677791 0.93689635 0.93610655\n",
            " 0.95154686 0.95557476 0.95052016 0.95632506 0.95699636 0.96848771\n",
            " 0.978123   0.95668046 0.96355156 0.98211152 0.98519167 0.99676202\n",
            " 1.         0.98645526 0.9730684  0.99539918 0.99052501 0.98875594\n",
            " 0.98854047 0.98889875 0.98946279 0.99013978 0.99090225 0.99171728\n",
            " 0.99253899 0.99331856 0.99401456 0.99459559 0.99504358 0.99535161\n",
            " 0.99552333 0.99556935 0.99550527 0.99534941 0.99512064 0.99483579\n",
            " 0.99450964 0.9941538  0.99377608 0.99338132]\n",
            "25 day output [[0.99297154]]\n",
            "26 day input [0.83044267 0.83229655 0.84768039 0.87994697 0.87730412 0.87048007\n",
            " 0.87403014 0.87008554 0.87462183 0.87568688 0.89623814 0.86945447\n",
            " 0.87170283 0.8673243  0.87178178 0.851625   0.86771884 0.88258987\n",
            " 0.8806176  0.87474016 0.88953236 0.899591   0.89142569 0.89288522\n",
            " 0.90412724 0.90996524 0.9075196  0.88740226 0.88665281 0.88996622\n",
            " 0.89781594 0.89888099 0.88479886 0.86827109 0.85643732 0.8528872\n",
            " 0.85856743 0.85568787 0.874464   0.87339787 0.86261731 0.86261731\n",
            " 0.86613181 0.87837346 0.86565796 0.87758366 0.87861041 0.88145361\n",
            " 0.87955816 0.88488916 0.89673591 0.905384   0.90487065 0.91434806\n",
            " 0.92327261 0.93535631 0.93677791 0.93689635 0.93610655 0.95154686\n",
            " 0.95557476 0.95052016 0.95632506 0.95699636 0.96848771 0.978123\n",
            " 0.95668046 0.96355156 0.98211152 0.98519167 0.99676202 1.\n",
            " 0.98645526 0.9730684  0.99539918 0.99052501 0.98875594 0.98854047\n",
            " 0.98889875 0.98946279 0.99013978 0.99090225 0.99171728 0.99253899\n",
            " 0.99331856 0.99401456 0.99459559 0.99504358 0.99535161 0.99552333\n",
            " 0.99556935 0.99550527 0.99534941 0.99512064 0.99483579 0.99450964\n",
            " 0.9941538  0.99377608 0.99338132 0.99297154]\n",
            "26 day output [[0.9925465]]\n",
            "27 day input [0.83229655 0.84768039 0.87994697 0.87730412 0.87048007 0.87403014\n",
            " 0.87008554 0.87462183 0.87568688 0.89623814 0.86945447 0.87170283\n",
            " 0.8673243  0.87178178 0.851625   0.86771884 0.88258987 0.8806176\n",
            " 0.87474016 0.88953236 0.899591   0.89142569 0.89288522 0.90412724\n",
            " 0.90996524 0.9075196  0.88740226 0.88665281 0.88996622 0.89781594\n",
            " 0.89888099 0.88479886 0.86827109 0.85643732 0.8528872  0.85856743\n",
            " 0.85568787 0.874464   0.87339787 0.86261731 0.86261731 0.86613181\n",
            " 0.87837346 0.86565796 0.87758366 0.87861041 0.88145361 0.87955816\n",
            " 0.88488916 0.89673591 0.905384   0.90487065 0.91434806 0.92327261\n",
            " 0.93535631 0.93677791 0.93689635 0.93610655 0.95154686 0.95557476\n",
            " 0.95052016 0.95632506 0.95699636 0.96848771 0.978123   0.95668046\n",
            " 0.96355156 0.98211152 0.98519167 0.99676202 1.         0.98645526\n",
            " 0.9730684  0.99539918 0.99052501 0.98875594 0.98854047 0.98889875\n",
            " 0.98946279 0.99013978 0.99090225 0.99171728 0.99253899 0.99331856\n",
            " 0.99401456 0.99459559 0.99504358 0.99535161 0.99552333 0.99556935\n",
            " 0.99550527 0.99534941 0.99512064 0.99483579 0.99450964 0.9941538\n",
            " 0.99377608 0.99338132 0.99297154 0.9925465 ]\n",
            "27 day output [[0.9921047]]\n",
            "28 day input [0.84768039 0.87994697 0.87730412 0.87048007 0.87403014 0.87008554\n",
            " 0.87462183 0.87568688 0.89623814 0.86945447 0.87170283 0.8673243\n",
            " 0.87178178 0.851625   0.86771884 0.88258987 0.8806176  0.87474016\n",
            " 0.88953236 0.899591   0.89142569 0.89288522 0.90412724 0.90996524\n",
            " 0.9075196  0.88740226 0.88665281 0.88996622 0.89781594 0.89888099\n",
            " 0.88479886 0.86827109 0.85643732 0.8528872  0.85856743 0.85568787\n",
            " 0.874464   0.87339787 0.86261731 0.86261731 0.86613181 0.87837346\n",
            " 0.86565796 0.87758366 0.87861041 0.88145361 0.87955816 0.88488916\n",
            " 0.89673591 0.905384   0.90487065 0.91434806 0.92327261 0.93535631\n",
            " 0.93677791 0.93689635 0.93610655 0.95154686 0.95557476 0.95052016\n",
            " 0.95632506 0.95699636 0.96848771 0.978123   0.95668046 0.96355156\n",
            " 0.98211152 0.98519167 0.99676202 1.         0.98645526 0.9730684\n",
            " 0.99539918 0.99052501 0.98875594 0.98854047 0.98889875 0.98946279\n",
            " 0.99013978 0.99090225 0.99171728 0.99253899 0.99331856 0.99401456\n",
            " 0.99459559 0.99504358 0.99535161 0.99552333 0.99556935 0.99550527\n",
            " 0.99534941 0.99512064 0.99483579 0.99450964 0.9941538  0.99377608\n",
            " 0.99338132 0.99297154 0.9925465  0.99210471]\n",
            "28 day output [[0.99164355]]\n",
            "29 day input [0.87994697 0.87730412 0.87048007 0.87403014 0.87008554 0.87462183\n",
            " 0.87568688 0.89623814 0.86945447 0.87170283 0.8673243  0.87178178\n",
            " 0.851625   0.86771884 0.88258987 0.8806176  0.87474016 0.88953236\n",
            " 0.899591   0.89142569 0.89288522 0.90412724 0.90996524 0.9075196\n",
            " 0.88740226 0.88665281 0.88996622 0.89781594 0.89888099 0.88479886\n",
            " 0.86827109 0.85643732 0.8528872  0.85856743 0.85568787 0.874464\n",
            " 0.87339787 0.86261731 0.86261731 0.86613181 0.87837346 0.86565796\n",
            " 0.87758366 0.87861041 0.88145361 0.87955816 0.88488916 0.89673591\n",
            " 0.905384   0.90487065 0.91434806 0.92327261 0.93535631 0.93677791\n",
            " 0.93689635 0.93610655 0.95154686 0.95557476 0.95052016 0.95632506\n",
            " 0.95699636 0.96848771 0.978123   0.95668046 0.96355156 0.98211152\n",
            " 0.98519167 0.99676202 1.         0.98645526 0.9730684  0.99539918\n",
            " 0.99052501 0.98875594 0.98854047 0.98889875 0.98946279 0.99013978\n",
            " 0.99090225 0.99171728 0.99253899 0.99331856 0.99401456 0.99459559\n",
            " 0.99504358 0.99535161 0.99552333 0.99556935 0.99550527 0.99534941\n",
            " 0.99512064 0.99483579 0.99450964 0.9941538  0.99377608 0.99338132\n",
            " 0.99297154 0.9925465  0.99210471 0.99164355]\n",
            "29 day output [[0.9911608]]\n",
            "[[0.9953991770744324], [0.9905250072479248], [0.9887559413909912], [0.9885404706001282], [0.988898754119873], [0.9894627928733826], [0.9901397824287415], [0.9909022450447083], [0.9917172789573669], [0.9925389885902405], [0.9933185577392578], [0.9940145611763], [0.9945955872535706], [0.9950435757637024], [0.9953516125679016], [0.9955233335494995], [0.9955693483352661], [0.9955052733421326], [0.9953494071960449], [0.995120644569397], [0.9948357939720154], [0.9945096373558044], [0.9941537976264954], [0.9937760829925537], [0.9933813214302063], [0.9929715394973755], [0.9925464987754822], [0.992104709148407], [0.9916435480117798], [0.9911608099937439]]\n"
          ]
        }
      ]
    },
    {
      "cell_type": "code",
      "source": [
        "day_new=np.arange(1,101)\n",
        "day_predict=np.arange(101,131)"
      ],
      "metadata": {
        "id": "qgZPDJZDac3N"
      },
      "execution_count": 49,
      "outputs": []
    },
    {
      "cell_type": "code",
      "source": [
        "import matplotlib.pyplot as plt"
      ],
      "metadata": {
        "id": "w43HxZHdeMlj"
      },
      "execution_count": 50,
      "outputs": []
    },
    {
      "cell_type": "code",
      "source": [
        "len(df1)"
      ],
      "metadata": {
        "colab": {
          "base_uri": "https://localhost:8080/"
        },
        "id": "3cLm0_vKeS3v",
        "outputId": "f54717a0-743b-4fe3-9fc5-dca5cb123c17"
      },
      "execution_count": 51,
      "outputs": [
        {
          "output_type": "execute_result",
          "data": {
            "text/plain": [
              "3773"
            ]
          },
          "metadata": {},
          "execution_count": 51
        }
      ]
    },
    {
      "cell_type": "code",
      "source": [
        "df3=df1.tolist()\n",
        "df3.extend(lst_output)"
      ],
      "metadata": {
        "id": "CqIiwe47gN4P"
      },
      "execution_count": 52,
      "outputs": []
    },
    {
      "cell_type": "code",
      "source": [
        "plt.plot(day_new,scaler.inverse_transform(df1[3673:]))\n",
        "plt.plot(day_predict,scaler.inverse_transform(lst_output))"
      ],
      "metadata": {
        "colab": {
          "base_uri": "https://localhost:8080/",
          "height": 447
        },
        "id": "1zJfOQflga49",
        "outputId": "a9de9d8f-aaf7-4125-bab6-40be06634160"
      },
      "execution_count": 56,
      "outputs": [
        {
          "output_type": "execute_result",
          "data": {
            "text/plain": [
              "[<matplotlib.lines.Line2D at 0x7c14b5b6ec10>]"
            ]
          },
          "metadata": {},
          "execution_count": 56
        },
        {
          "output_type": "display_data",
          "data": {
            "text/plain": [
              "<Figure size 640x480 with 1 Axes>"
            ],
            "image/png": "[encoded data removed]"
          },
          "metadata": {}
        }
      ]
    },
    {
      "cell_type": "code",
      "source": [
        "df3=df1.tolist()\n",
        "df3.extend(lst_output)\n",
        "plt.plot(df3[3673:])"
      ],
      "metadata": {
        "colab": {
          "base_uri": "https://localhost:8080/",
          "height": 447
        },
        "id": "rVetnTY1gv1H",
        "outputId": "c00e1965-bd0f-499d-dddf-97abe1e9ff39"
      },
      "execution_count": 57,
      "outputs": [
        {
          "output_type": "execute_result",
          "data": {
            "text/plain": [
              "[<matplotlib.lines.Line2D at 0x7c14b782b910>]"
            ]
          },
          "metadata": {},
          "execution_count": 57
        },
        {
          "output_type": "display_data",
          "data": {
            "text/plain": [
              "<Figure size 640x480 with 1 Axes>"
            ],
            "image/png": "[encoded data removed]"
          },
          "metadata": {}
        }
      ]
    },
    {
      "cell_type": "code",
      "source": [],
      "metadata": {
        "id": "NFRleFufiA46"
      },
      "execution_count": null,
      "outputs": []
    }
  ]
}